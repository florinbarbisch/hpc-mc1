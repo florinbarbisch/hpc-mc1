{
 "cells": [
  {
   "cell_type": "code",
   "execution_count": 1,
   "metadata": {
    "tags": []
   },
   "outputs": [
    {
     "name": "stdout",
     "output_type": "stream",
     "text": [
      "Collecting kafka-python\n",
      "  Using cached kafka_python-2.0.2-py2.py3-none-any.whl (246 kB)\n",
      "Installing collected packages: kafka-python\n",
      "Successfully installed kafka-python-2.0.2\n"
     ]
    }
   ],
   "source": [
    "!pip install kafka-python"
   ]
  },
  {
   "cell_type": "code",
   "execution_count": 2,
   "metadata": {
    "tags": []
   },
   "outputs": [],
   "source": [
    "from kafka import KafkaConsumer, KafkaProducer\n",
    "import json\n",
    "import uuid\n",
    "\n",
    "def connect_kafka_producer(servers):\n",
    "    _producer = None\n",
    "    try:\n",
    "        _producer = KafkaProducer(bootstrap_servers=servers, api_version=(0, 10))\n",
    "    except Exception as ex:\n",
    "        print('Exception while connecting Kafka')\n",
    "        print(str(ex))\n",
    "    finally:\n",
    "        return _producer"
   ]
  },
  {
   "cell_type": "code",
   "execution_count": 3,
   "metadata": {
    "tags": []
   },
   "outputs": [],
   "source": [
    "def publish_message(producer_instance, topic_name, key, value):\n",
    "    try:\n",
    "        key_bytes = bytes(key, encoding='utf-8')\n",
    "        value_bytes = bytes(value, encoding='utf-8')\n",
    "        producer_instance.send(topic_name, key=key_bytes, value=value_bytes)\n",
    "        producer_instance.flush()\n",
    "        print('Message published successfully.')\n",
    "    except Exception as ex:\n",
    "        print('Exception in publishing message')\n",
    "        print(str(ex))"
   ]
  },
  {
   "cell_type": "code",
   "execution_count": 4,
   "metadata": {
    "tags": []
   },
   "outputs": [],
   "source": [
    "import random\n",
    "import time\n",
    "\n",
    "def produce_xy(producer, topic_name):\n",
    "    while True:\n",
    "        name = f'Mark {random.randint(0,22)}'\n",
    "        message = json.dumps({\"name\": name})\n",
    "        print(name)\n",
    "        publish_message(producer, topic_name, str(uuid.uuid4()), message)\n",
    "        time.sleep(0.1)"
   ]
  },
  {
   "cell_type": "code",
   "execution_count": 5,
   "metadata": {
    "tags": []
   },
   "outputs": [],
   "source": [
    "def consume_xy(consumer, topic_name):\n",
    "\n",
    "    for msg in consumer:\n",
    "        print(msg.key.decode(\"utf-8\"), msg.value)"
   ]
  },
  {
   "cell_type": "code",
   "execution_count": 10,
   "metadata": {
    "tags": []
   },
   "outputs": [],
   "source": [
    "server1 = 'broker1:9093'\n",
    "topic1 = \"marks4\"\n",
    "\n",
    "producer = connect_kafka_producer(server1)\n",
    "\n",
    "consumer = KafkaConsumer(topic1, \n",
    "                         auto_offset_reset='earliest',\n",
    "                         bootstrap_servers=[server1], \n",
    "                         api_version=(0, 10), \n",
    "                         value_deserializer = json.loads,\n",
    "                         consumer_timeout_ms=1000)"
   ]
  },
  {
   "cell_type": "code",
   "execution_count": 11,
   "metadata": {
    "tags": []
   },
   "outputs": [
    {
     "name": "stdout",
     "output_type": "stream",
     "text": [
      "Mark 20\n",
      "Message published successfully.\n",
      "Mark 5\n",
      "Message published successfully.\n",
      "Mark 7\n",
      "Message published successfully.\n",
      "Mark 12\n",
      "Message published successfully.\n",
      "Mark 17\n",
      "Message published successfully.\n",
      "Mark 1\n",
      "Message published successfully.\n",
      "Mark 10\n",
      "Message published successfully.\n",
      "Mark 19\n",
      "Message published successfully.\n",
      "Mark 14\n",
      "Message published successfully.\n",
      "Mark 22\n",
      "Message published successfully.\n",
      "Mark 2\n",
      "Message published successfully.\n",
      "Mark 12\n",
      "Message published successfully.\n",
      "Mark 0\n",
      "Message published successfully.\n",
      "Mark 0\n",
      "Message published successfully.\n",
      "Mark 11\n",
      "Message published successfully.\n",
      "Mark 22\n",
      "Message published successfully.\n",
      "Mark 21\n",
      "Message published successfully.\n",
      "Mark 7\n",
      "Message published successfully.\n",
      "Mark 18\n",
      "Message published successfully.\n",
      "Mark 0\n",
      "Message published successfully.\n",
      "Mark 21\n",
      "Message published successfully.\n",
      "Mark 9\n",
      "Message published successfully.\n",
      "Mark 4\n",
      "Message published successfully.\n",
      "Mark 1\n",
      "Message published successfully.\n",
      "Mark 3\n",
      "Message published successfully.\n",
      "Mark 7\n",
      "Message published successfully.\n",
      "Mark 21\n",
      "Message published successfully.\n",
      "Mark 22\n",
      "Message published successfully.\n",
      "Mark 7\n",
      "Message published successfully.\n",
      "Mark 16\n",
      "Message published successfully.\n",
      "Mark 11\n",
      "Message published successfully.\n",
      "Mark 5\n",
      "Message published successfully.\n",
      "Mark 1\n",
      "Message published successfully.\n",
      "Mark 6\n",
      "Message published successfully.\n",
      "Mark 21\n",
      "Message published successfully.\n",
      "Mark 7\n",
      "Message published successfully.\n",
      "Mark 15\n",
      "Message published successfully.\n",
      "Mark 17\n",
      "Message published successfully.\n",
      "Mark 7\n",
      "Message published successfully.\n",
      "Mark 5\n",
      "Message published successfully.\n",
      "Mark 16\n",
      "Message published successfully.\n",
      "Mark 1\n",
      "Message published successfully.\n",
      "Mark 9\n",
      "Message published successfully.\n",
      "Mark 11\n",
      "Message published successfully.\n",
      "Mark 0\n",
      "Message published successfully.\n",
      "Mark 0\n",
      "Message published successfully.\n",
      "Mark 21\n",
      "Message published successfully.\n",
      "Mark 22\n",
      "Message published successfully.\n",
      "Mark 3\n",
      "Message published successfully.\n",
      "Mark 19\n",
      "Message published successfully.\n",
      "Mark 14\n",
      "Message published successfully.\n",
      "Mark 7\n",
      "Message published successfully.\n",
      "Mark 11\n",
      "Message published successfully.\n",
      "Mark 18\n",
      "Message published successfully.\n",
      "Mark 2\n",
      "Message published successfully.\n",
      "Mark 5\n",
      "Message published successfully.\n",
      "Mark 15\n",
      "Message published successfully.\n",
      "Mark 5\n",
      "Message published successfully.\n",
      "Mark 4\n",
      "Message published successfully.\n",
      "Mark 7\n",
      "Message published successfully.\n",
      "Mark 17\n",
      "Message published successfully.\n",
      "Mark 20\n",
      "Message published successfully.\n",
      "Mark 15\n",
      "Message published successfully.\n",
      "Mark 5\n",
      "Message published successfully.\n",
      "Mark 14\n",
      "Message published successfully.\n",
      "Mark 3\n",
      "Message published successfully.\n",
      "Mark 13\n",
      "Message published successfully.\n",
      "Mark 13\n",
      "Message published successfully.\n",
      "Mark 16\n",
      "Message published successfully.\n",
      "Mark 20\n",
      "Message published successfully.\n",
      "Mark 9\n",
      "Message published successfully.\n",
      "Mark 6\n",
      "Message published successfully.\n",
      "Mark 17\n",
      "Message published successfully.\n",
      "Mark 19\n",
      "Message published successfully.\n",
      "Mark 9\n",
      "Message published successfully.\n",
      "Mark 4\n",
      "Message published successfully.\n",
      "Mark 9\n",
      "Message published successfully.\n",
      "Mark 19\n",
      "Message published successfully.\n",
      "Mark 4\n",
      "Message published successfully.\n",
      "Mark 0\n",
      "Message published successfully.\n",
      "Mark 12\n",
      "Message published successfully.\n",
      "Mark 8\n",
      "Message published successfully.\n",
      "Mark 9\n",
      "Message published successfully.\n",
      "Mark 13\n",
      "Message published successfully.\n",
      "Mark 14\n",
      "Message published successfully.\n",
      "Mark 22\n",
      "Message published successfully.\n",
      "Mark 2\n",
      "Message published successfully.\n",
      "Mark 22\n",
      "Message published successfully.\n",
      "Mark 10\n",
      "Message published successfully.\n",
      "Mark 5\n",
      "Message published successfully.\n",
      "Mark 14\n",
      "Message published successfully.\n",
      "Mark 15\n"
     ]
    },
    {
     "ename": "KeyboardInterrupt",
     "evalue": "",
     "output_type": "error",
     "traceback": [
      "\u001b[0;31m---------------------------------------------------------------------------\u001b[0m",
      "\u001b[0;31mKeyboardInterrupt\u001b[0m                         Traceback (most recent call last)",
      "Cell \u001b[0;32mIn[11], line 1\u001b[0m\n\u001b[0;32m----> 1\u001b[0m \u001b[43mproduce_xy\u001b[49m\u001b[43m(\u001b[49m\u001b[43mproducer\u001b[49m\u001b[43m,\u001b[49m\u001b[43m \u001b[49m\u001b[43mtopic1\u001b[49m\u001b[43m)\u001b[49m\n",
      "Cell \u001b[0;32mIn[4], line 9\u001b[0m, in \u001b[0;36mproduce_xy\u001b[0;34m(producer, topic_name)\u001b[0m\n\u001b[1;32m      7\u001b[0m message \u001b[38;5;241m=\u001b[39m json\u001b[38;5;241m.\u001b[39mdumps({\u001b[38;5;124m\"\u001b[39m\u001b[38;5;124mname\u001b[39m\u001b[38;5;124m\"\u001b[39m: name})\n\u001b[1;32m      8\u001b[0m \u001b[38;5;28mprint\u001b[39m(name)\n\u001b[0;32m----> 9\u001b[0m \u001b[43mpublish_message\u001b[49m\u001b[43m(\u001b[49m\u001b[43mproducer\u001b[49m\u001b[43m,\u001b[49m\u001b[43m \u001b[49m\u001b[43mtopic_name\u001b[49m\u001b[43m,\u001b[49m\u001b[43m \u001b[49m\u001b[38;5;28;43mstr\u001b[39;49m\u001b[43m(\u001b[49m\u001b[43muuid\u001b[49m\u001b[38;5;241;43m.\u001b[39;49m\u001b[43muuid4\u001b[49m\u001b[43m(\u001b[49m\u001b[43m)\u001b[49m\u001b[43m)\u001b[49m\u001b[43m,\u001b[49m\u001b[43m \u001b[49m\u001b[43mmessage\u001b[49m\u001b[43m)\u001b[49m\n\u001b[1;32m     10\u001b[0m time\u001b[38;5;241m.\u001b[39msleep(\u001b[38;5;241m0.1\u001b[39m)\n",
      "Cell \u001b[0;32mIn[3], line 6\u001b[0m, in \u001b[0;36mpublish_message\u001b[0;34m(producer_instance, topic_name, key, value)\u001b[0m\n\u001b[1;32m      4\u001b[0m     value_bytes \u001b[38;5;241m=\u001b[39m \u001b[38;5;28mbytes\u001b[39m(value, encoding\u001b[38;5;241m=\u001b[39m\u001b[38;5;124m'\u001b[39m\u001b[38;5;124mutf-8\u001b[39m\u001b[38;5;124m'\u001b[39m)\n\u001b[1;32m      5\u001b[0m     producer_instance\u001b[38;5;241m.\u001b[39msend(topic_name, key\u001b[38;5;241m=\u001b[39mkey_bytes, value\u001b[38;5;241m=\u001b[39mvalue_bytes)\n\u001b[0;32m----> 6\u001b[0m     \u001b[43mproducer_instance\u001b[49m\u001b[38;5;241;43m.\u001b[39;49m\u001b[43mflush\u001b[49m\u001b[43m(\u001b[49m\u001b[43m)\u001b[49m\n\u001b[1;32m      7\u001b[0m     \u001b[38;5;28mprint\u001b[39m(\u001b[38;5;124m'\u001b[39m\u001b[38;5;124mMessage published successfully.\u001b[39m\u001b[38;5;124m'\u001b[39m)\n\u001b[1;32m      8\u001b[0m \u001b[38;5;28;01mexcept\u001b[39;00m \u001b[38;5;167;01mException\u001b[39;00m \u001b[38;5;28;01mas\u001b[39;00m ex:\n",
      "File \u001b[0;32m/opt/conda/lib/python3.10/site-packages/kafka/producer/kafka.py:649\u001b[0m, in \u001b[0;36mKafkaProducer.flush\u001b[0;34m(self, timeout)\u001b[0m\n\u001b[1;32m    647\u001b[0m \u001b[38;5;28mself\u001b[39m\u001b[38;5;241m.\u001b[39m_accumulator\u001b[38;5;241m.\u001b[39mbegin_flush()\n\u001b[1;32m    648\u001b[0m \u001b[38;5;28mself\u001b[39m\u001b[38;5;241m.\u001b[39m_sender\u001b[38;5;241m.\u001b[39mwakeup()\n\u001b[0;32m--> 649\u001b[0m \u001b[38;5;28;43mself\u001b[39;49m\u001b[38;5;241;43m.\u001b[39;49m\u001b[43m_accumulator\u001b[49m\u001b[38;5;241;43m.\u001b[39;49m\u001b[43mawait_flush_completion\u001b[49m\u001b[43m(\u001b[49m\u001b[43mtimeout\u001b[49m\u001b[38;5;241;43m=\u001b[39;49m\u001b[43mtimeout\u001b[49m\u001b[43m)\u001b[49m\n",
      "File \u001b[0;32m/opt/conda/lib/python3.10/site-packages/kafka/producer/record_accumulator.py:528\u001b[0m, in \u001b[0;36mRecordAccumulator.await_flush_completion\u001b[0;34m(self, timeout)\u001b[0m\n\u001b[1;32m    525\u001b[0m \u001b[38;5;28;01mfor\u001b[39;00m batch \u001b[38;5;129;01min\u001b[39;00m \u001b[38;5;28mself\u001b[39m\u001b[38;5;241m.\u001b[39m_incomplete\u001b[38;5;241m.\u001b[39mall():\n\u001b[1;32m    526\u001b[0m     log\u001b[38;5;241m.\u001b[39mdebug(\u001b[38;5;124m'\u001b[39m\u001b[38;5;124mWaiting on produce to \u001b[39m\u001b[38;5;132;01m%s\u001b[39;00m\u001b[38;5;124m'\u001b[39m,\n\u001b[1;32m    527\u001b[0m               batch\u001b[38;5;241m.\u001b[39mproduce_future\u001b[38;5;241m.\u001b[39mtopic_partition)\n\u001b[0;32m--> 528\u001b[0m     \u001b[38;5;28;01mif\u001b[39;00m \u001b[38;5;129;01mnot\u001b[39;00m \u001b[43mbatch\u001b[49m\u001b[38;5;241;43m.\u001b[39;49m\u001b[43mproduce_future\u001b[49m\u001b[38;5;241;43m.\u001b[39;49m\u001b[43mwait\u001b[49m\u001b[43m(\u001b[49m\u001b[43mtimeout\u001b[49m\u001b[38;5;241;43m=\u001b[39;49m\u001b[43mtimeout\u001b[49m\u001b[43m)\u001b[49m:\n\u001b[1;32m    529\u001b[0m         \u001b[38;5;28;01mraise\u001b[39;00m Errors\u001b[38;5;241m.\u001b[39mKafkaTimeoutError(\u001b[38;5;124m'\u001b[39m\u001b[38;5;124mTimeout waiting for future\u001b[39m\u001b[38;5;124m'\u001b[39m)\n\u001b[1;32m    530\u001b[0m     \u001b[38;5;28;01mif\u001b[39;00m \u001b[38;5;129;01mnot\u001b[39;00m batch\u001b[38;5;241m.\u001b[39mproduce_future\u001b[38;5;241m.\u001b[39mis_done:\n",
      "File \u001b[0;32m/opt/conda/lib/python3.10/site-packages/kafka/producer/future.py:28\u001b[0m, in \u001b[0;36mFutureProduceResult.wait\u001b[0;34m(self, timeout)\u001b[0m\n\u001b[1;32m     26\u001b[0m \u001b[38;5;28;01mdef\u001b[39;00m \u001b[38;5;21mwait\u001b[39m(\u001b[38;5;28mself\u001b[39m, timeout\u001b[38;5;241m=\u001b[39m\u001b[38;5;28;01mNone\u001b[39;00m):\n\u001b[1;32m     27\u001b[0m     \u001b[38;5;66;03m# wait() on python2.6 returns None instead of the flag value\u001b[39;00m\n\u001b[0;32m---> 28\u001b[0m     \u001b[38;5;28;01mreturn\u001b[39;00m \u001b[38;5;28;43mself\u001b[39;49m\u001b[38;5;241;43m.\u001b[39;49m\u001b[43m_latch\u001b[49m\u001b[38;5;241;43m.\u001b[39;49m\u001b[43mwait\u001b[49m\u001b[43m(\u001b[49m\u001b[43mtimeout\u001b[49m\u001b[43m)\u001b[49m \u001b[38;5;129;01mor\u001b[39;00m \u001b[38;5;28mself\u001b[39m\u001b[38;5;241m.\u001b[39m_latch\u001b[38;5;241m.\u001b[39mis_set()\n",
      "File \u001b[0;32m/opt/conda/lib/python3.10/threading.py:607\u001b[0m, in \u001b[0;36mEvent.wait\u001b[0;34m(self, timeout)\u001b[0m\n\u001b[1;32m    605\u001b[0m signaled \u001b[38;5;241m=\u001b[39m \u001b[38;5;28mself\u001b[39m\u001b[38;5;241m.\u001b[39m_flag\n\u001b[1;32m    606\u001b[0m \u001b[38;5;28;01mif\u001b[39;00m \u001b[38;5;129;01mnot\u001b[39;00m signaled:\n\u001b[0;32m--> 607\u001b[0m     signaled \u001b[38;5;241m=\u001b[39m \u001b[38;5;28;43mself\u001b[39;49m\u001b[38;5;241;43m.\u001b[39;49m\u001b[43m_cond\u001b[49m\u001b[38;5;241;43m.\u001b[39;49m\u001b[43mwait\u001b[49m\u001b[43m(\u001b[49m\u001b[43mtimeout\u001b[49m\u001b[43m)\u001b[49m\n\u001b[1;32m    608\u001b[0m \u001b[38;5;28;01mreturn\u001b[39;00m signaled\n",
      "File \u001b[0;32m/opt/conda/lib/python3.10/threading.py:320\u001b[0m, in \u001b[0;36mCondition.wait\u001b[0;34m(self, timeout)\u001b[0m\n\u001b[1;32m    318\u001b[0m \u001b[38;5;28;01mtry\u001b[39;00m:    \u001b[38;5;66;03m# restore state no matter what (e.g., KeyboardInterrupt)\u001b[39;00m\n\u001b[1;32m    319\u001b[0m     \u001b[38;5;28;01mif\u001b[39;00m timeout \u001b[38;5;129;01mis\u001b[39;00m \u001b[38;5;28;01mNone\u001b[39;00m:\n\u001b[0;32m--> 320\u001b[0m         \u001b[43mwaiter\u001b[49m\u001b[38;5;241;43m.\u001b[39;49m\u001b[43macquire\u001b[49m\u001b[43m(\u001b[49m\u001b[43m)\u001b[49m\n\u001b[1;32m    321\u001b[0m         gotit \u001b[38;5;241m=\u001b[39m \u001b[38;5;28;01mTrue\u001b[39;00m\n\u001b[1;32m    322\u001b[0m     \u001b[38;5;28;01melse\u001b[39;00m:\n",
      "\u001b[0;31mKeyboardInterrupt\u001b[0m: "
     ]
    }
   ],
   "source": [
    "produce_xy(producer, topic1)"
   ]
  },
  {
   "cell_type": "code",
   "execution_count": null,
   "metadata": {
    "tags": []
   },
   "outputs": [],
   "source": [
    "consume_xy(consumer, topic1)"
   ]
  },
  {
   "cell_type": "code",
   "execution_count": null,
   "metadata": {},
   "outputs": [],
   "source": []
  }
 ],
 "metadata": {
  "kernelspec": {
   "display_name": "Python 3 (ipykernel)",
   "language": "python",
   "name": "python3"
  },
  "language_info": {
   "codemirror_mode": {
    "name": "ipython",
    "version": 3
   },
   "file_extension": ".py",
   "mimetype": "text/x-python",
   "name": "python",
   "nbconvert_exporter": "python",
   "pygments_lexer": "ipython3",
   "version": "3.10.9"
  },
  "vscode": {
   "interpreter": {
    "hash": "52f478e144ea7ddcb3489a24da247729041eb0b17fcb64c8ea45bfbecf1c59a2"
   }
  }
 },
 "nbformat": 4,
 "nbformat_minor": 4
}

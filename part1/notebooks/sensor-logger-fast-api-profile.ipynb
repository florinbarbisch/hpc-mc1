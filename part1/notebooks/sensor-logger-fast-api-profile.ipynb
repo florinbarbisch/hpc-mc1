{
 "cells": [
  {
   "cell_type": "code",
   "execution_count": 10,
   "id": "19b03172-a89b-45d0-8e48-3d5ca794b861",
   "metadata": {
    "tags": []
   },
   "outputs": [
    {
     "name": "stdout",
     "output_type": "stream",
     "text": [
      "Requirement already satisfied: fastapi in /opt/conda/lib/python3.10/site-packages (0.95.0)\n",
      "Requirement already satisfied: uvicorn in /opt/conda/lib/python3.10/site-packages (0.21.1)\n",
      "Requirement already satisfied: kafka-python in /opt/conda/lib/python3.10/site-packages (2.0.2)\n",
      "Requirement already satisfied: snakeviz in /opt/conda/lib/python3.10/site-packages (2.1.1)\n",
      "Requirement already satisfied: starlette<0.27.0,>=0.26.1 in /opt/conda/lib/python3.10/site-packages (from fastapi) (0.26.1)\n",
      "Requirement already satisfied: pydantic!=1.7,!=1.7.1,!=1.7.2,!=1.7.3,!=1.8,!=1.8.1,<2.0.0,>=1.6.2 in /opt/conda/lib/python3.10/site-packages (from fastapi) (1.10.7)\n",
      "Requirement already satisfied: click>=7.0 in /opt/conda/lib/python3.10/site-packages (from uvicorn) (8.1.3)\n",
      "Requirement already satisfied: h11>=0.8 in /opt/conda/lib/python3.10/site-packages (from uvicorn) (0.14.0)\n",
      "Requirement already satisfied: tornado>=2.0 in /opt/conda/lib/python3.10/site-packages (from snakeviz) (6.2)\n",
      "Requirement already satisfied: typing-extensions>=4.2.0 in /opt/conda/lib/python3.10/site-packages (from pydantic!=1.7,!=1.7.1,!=1.7.2,!=1.7.3,!=1.8,!=1.8.1,<2.0.0,>=1.6.2->fastapi) (4.4.0)\n",
      "Requirement already satisfied: anyio<5,>=3.4.0 in /opt/conda/lib/python3.10/site-packages (from starlette<0.27.0,>=0.26.1->fastapi) (3.6.2)\n",
      "Requirement already satisfied: idna>=2.8 in /opt/conda/lib/python3.10/site-packages (from anyio<5,>=3.4.0->starlette<0.27.0,>=0.26.1->fastapi) (3.4)\n",
      "Requirement already satisfied: sniffio>=1.1 in /opt/conda/lib/python3.10/site-packages (from anyio<5,>=3.4.0->starlette<0.27.0,>=0.26.1->fastapi) (1.3.0)\n"
     ]
    }
   ],
   "source": [
    "!pip install fastapi uvicorn kafka-python snakeviz"
   ]
  },
  {
   "cell_type": "code",
   "execution_count": 1,
   "id": "f6112401-1e93-4635-8fe4-e38ce4f2237d",
   "metadata": {
    "tags": []
   },
   "outputs": [],
   "source": [
    "from fastapi import FastAPI\n",
    "from kafka import KafkaProducer\n",
    "import json\n",
    "import os\n",
    "import logging\n",
    "import uvicorn\n",
    "import asyncio\n",
    "import cProfile\n",
    "import pstats\n",
    "\n",
    "\n",
    "logger = logging.getLogger(__name__)  # the __name__ resolve to \"uicheckapp.services\"\n",
    "\n",
    "# this is a hack to multiply the work-load inserted into Kafka\n",
    "names_to_multiply = os.environ.get('NAMES_TO_MULTIPLY', 'Joey,Aurelio,Evan,Donny,Foster,Dwayne,Grady,Quinton,Darin,Mickey,Hank,Kim,Peter,Jeremy,Jess,Jimmie,Vern,Pasquale,Romeo,Chris,Dale,Beau,Cliff,Timothy,Raphael,Brain,Mauro,Luke,Myron,Omar,Reynaldo,Major,Clinton,Nolan,Raymond,Lucien,Carey,Winfred,Dan,Abel,Elliott,Brent,Chuck,Dirk,Tod,Emerson,Dewey,Scot,Enrique,Al,Beatrice,Brandy,Kathy,Jane,Marcy,Shelly,Lucy,Cathy,Joanna,Doris,Lindsay,Staci,Shelia,Rosanne,Rebecca,Luz,Flora,Rosalie,Karla,Phoebe,Meagan,Virginia,Amanda,Katy,Karla,Deanne,Pearl,Christi,Victoria,Ola,Alexandra,Marina,Lorraine,Sybil,Adeline,Taylor,Anita,Aurora,Neva,Alisha,Maria,Erna,Gwendolyn,Brenda,Bethany,Sybil,Earline,June,Brandy,Sue').split(\",\")\n",
    "\n",
    "_producer = None\n",
    "try:\n",
    "    _producer = KafkaProducer(bootstrap_servers=os.environ.get('KAFKA_BROKER', 'broker1:9093').split(\",\"), \n",
    "                              api_version=(0, 10),\n",
    "                              max_block_ms=10000)\n",
    "except Exception as ex:\n",
    "    logger.error('Exception while connecting Kafka')\n",
    "    logger.error(str(ex))\n"
   ]
  },
  {
   "cell_type": "code",
   "execution_count": 2,
   "id": "de82fd47-761d-4933-8989-3d16ccad74c4",
   "metadata": {
    "tags": []
   },
   "outputs": [
    {
     "name": "stderr",
     "output_type": "stream",
     "text": [
      "INFO:     Started server process [19157]\n",
      "INFO:     Waiting for application startup.\n",
      "INFO:     Application startup complete.\n",
      "INFO:     Uvicorn running on http://0.0.0.0:8000 (Press CTRL+C to quit)\n"
     ]
    },
    {
     "name": "stdout",
     "output_type": "stream",
     "text": [
      "INFO:     172.21.0.1:38006 - \"POST /data?device=Pixel6&person=Florin&activity=running HTTP/1.1\" 200 OK\n",
      "INFO:     172.21.0.1:38014 - \"POST /data?device=Pixel6&person=Florin&activity=running HTTP/1.1\" 200 OK\n"
     ]
    }
   ],
   "source": [
    "app = FastAPI()\n",
    "\n",
    "\n",
    "@app.get(\"/\")\n",
    "async def root():\n",
    "    return {\"message\": \"Hello World\"}\n",
    "\n",
    "\n",
    "saved = [False]\n",
    "\n",
    "\n",
    "# insert URL into SensorLogger app: http://100.102.3.111:8080/data?device=Pixel6&person=Florin&activity=running\n",
    "# https://github.com/tszheichoi/awesome-sensor-logger/#live-data-streaming\n",
    "@app.post(\"/data\")\n",
    "async def data(data: dict, activity: str = None, device: str = None, person: str = None):\n",
    "    if not saved[0]:\n",
    "        profiler = cProfile.Profile()\n",
    "        profiler.enable()\n",
    "    try:\n",
    "        for measurement in data[\"payload\"]:\n",
    "            timestamp_ms = int(measurement[\"time\"]) // 1_000_000 # convert nanoseconds to milliseconds\n",
    "            value_bytes = bytes(json.dumps(measurement[\"values\"]), encoding='utf-8')\n",
    "            for name in names_to_multiply + [person]:\n",
    "                key_bytes = bytes(f\"{name}:{device}:{activity}\", encoding='utf-8')\n",
    "                _producer.send(measurement['name'],\n",
    "                            key=key_bytes,\n",
    "                            value=value_bytes,\n",
    "                            timestamp_ms=timestamp_ms) \n",
    "        _producer.flush()\n",
    "        logger.info('Message published successfully.')\n",
    "    except Exception as ex:\n",
    "        logger.error('Exception in publishing message')\n",
    "        logger.error(str(ex))\n",
    "\n",
    "    if not saved[0]:\n",
    "        profiler.disable()\n",
    "        profiler.dump_stats(\"sensor-logger.prof\")\n",
    "        saved[0] = True\n",
    "    \n",
    "    return {\"message\": \"Sensor data received\"}\n",
    "\n",
    "\n",
    "if __name__ == \"__main__\":\n",
    "    # make available from outside by using the host 0.0.0.0\n",
    "    config = uvicorn.Config(app, host=\"0.0.0.0\", port=8000)\n",
    "    server = uvicorn.Server(config)\n",
    "    loop = asyncio.get_event_loop()\n",
    "    loop.create_task(server.serve())"
   ]
  },
  {
   "cell_type": "code",
   "execution_count": null,
   "id": "14b15fde-b66b-4d2b-bb6b-d1d726ec75f7",
   "metadata": {
    "tags": []
   },
   "outputs": [
    {
     "name": "stdout",
     "output_type": "stream",
     "text": [
      "Open the URL: http://127.0.0.1:9001/snakeviz/%2Fhome%2Fjovyan%2Fsensor-logger.prof in your local browser. Interrupt the cell to stop the server.\n"
     ]
    },
    {
     "name": "stderr",
     "output_type": "stream",
     "text": [
      "404 GET / (172.21.0.1) 3.89ms\n"
     ]
    }
   ],
   "source": [
    "import os\n",
    "print(\"Open the URL: http://127.0.0.1:9001/snakeviz/%2Fhome%2Fjovyan%2Fsensor-logger.prof in your local browser. Interrupt the cell to stop the server.\")\n",
    "os.system('snakeviz \"sensor-logger.prof\" -s -p 9001 -H 0.0.0.0')"
   ]
  },
  {
   "cell_type": "code",
   "execution_count": 7,
   "id": "b33eb97f-3143-433e-b995-c9b178ee75d4",
   "metadata": {
    "tags": []
   },
   "outputs": [],
   "source": [
    "%load_ext snakeviz"
   ]
  }
 ],
 "metadata": {
  "kernelspec": {
   "display_name": "Python 3 (ipykernel)",
   "language": "python",
   "name": "python3"
  },
  "language_info": {
   "codemirror_mode": {
    "name": "ipython",
    "version": 3
   },
   "file_extension": ".py",
   "mimetype": "text/x-python",
   "name": "python",
   "nbconvert_exporter": "python",
   "pygments_lexer": "ipython3",
   "version": "3.10.9"
  }
 },
 "nbformat": 4,
 "nbformat_minor": 5
}

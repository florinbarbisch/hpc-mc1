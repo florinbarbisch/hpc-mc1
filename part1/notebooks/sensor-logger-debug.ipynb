{
 "cells": [
  {
   "cell_type": "code",
   "execution_count": 6,
   "id": "121cdad6-c2c6-4659-b409-cd2c3f540c58",
   "metadata": {
    "tags": []
   },
   "outputs": [
    {
     "name": "stdout",
     "output_type": "stream",
     "text": [
      "Requirement already satisfied: fastapi in /opt/conda/lib/python3.10/site-packages (0.95.0)\n",
      "Collecting uvicorn\n",
      "  Downloading uvicorn-0.21.1-py3-none-any.whl (57 kB)\n",
      "\u001b[2K     \u001b[90m━━━━━━━━━━━━━━━━━━━━━━━━━━━━━━━━━━━━━━━\u001b[0m \u001b[32m57.8/57.8 kB\u001b[0m \u001b[31m263.1 kB/s\u001b[0m eta \u001b[36m0:00:00\u001b[0ma \u001b[36m0:00:01\u001b[0m\n",
      "\u001b[?25hRequirement already satisfied: kafka-python in /opt/conda/lib/python3.10/site-packages (2.0.2)\n",
      "Requirement already satisfied: pydantic!=1.7,!=1.7.1,!=1.7.2,!=1.7.3,!=1.8,!=1.8.1,<2.0.0,>=1.6.2 in /opt/conda/lib/python3.10/site-packages (from fastapi) (1.10.7)\n",
      "Requirement already satisfied: starlette<0.27.0,>=0.26.1 in /opt/conda/lib/python3.10/site-packages (from fastapi) (0.26.1)\n",
      "Requirement already satisfied: click>=7.0 in /opt/conda/lib/python3.10/site-packages (from uvicorn) (8.1.3)\n",
      "Collecting h11>=0.8\n",
      "  Downloading h11-0.14.0-py3-none-any.whl (58 kB)\n",
      "\u001b[2K     \u001b[90m━━━━━━━━━━━━━━━━━━━━━━━━━━━━━━━━━━━━━━━\u001b[0m \u001b[32m58.3/58.3 kB\u001b[0m \u001b[31m276.4 kB/s\u001b[0m eta \u001b[36m0:00:00\u001b[0m \u001b[36m0:00:01\u001b[0m\n",
      "\u001b[?25hRequirement already satisfied: typing-extensions>=4.2.0 in /opt/conda/lib/python3.10/site-packages (from pydantic!=1.7,!=1.7.1,!=1.7.2,!=1.7.3,!=1.8,!=1.8.1,<2.0.0,>=1.6.2->fastapi) (4.4.0)\n",
      "Requirement already satisfied: anyio<5,>=3.4.0 in /opt/conda/lib/python3.10/site-packages (from starlette<0.27.0,>=0.26.1->fastapi) (3.6.2)\n",
      "Requirement already satisfied: idna>=2.8 in /opt/conda/lib/python3.10/site-packages (from anyio<5,>=3.4.0->starlette<0.27.0,>=0.26.1->fastapi) (3.4)\n",
      "Requirement already satisfied: sniffio>=1.1 in /opt/conda/lib/python3.10/site-packages (from anyio<5,>=3.4.0->starlette<0.27.0,>=0.26.1->fastapi) (1.3.0)\n",
      "Installing collected packages: h11, uvicorn\n",
      "Successfully installed h11-0.14.0 uvicorn-0.21.1\n"
     ]
    }
   ],
   "source": [
    "!pip install fastapi uvicorn kafka-python"
   ]
  },
  {
   "cell_type": "code",
   "execution_count": 8,
   "id": "f4a54254-3f49-4de8-98f2-ddabc9101082",
   "metadata": {
    "tags": []
   },
   "outputs": [
    {
     "name": "stderr",
     "output_type": "stream",
     "text": [
      "INFO:     Started server process [1111]\n",
      "INFO:     Waiting for application startup.\n",
      "INFO:     Application startup complete.\n",
      "INFO:     Uvicorn running on http://127.0.0.1:8000 (Press CTRL+C to quit)\n",
      "INFO:     Shutting down\n",
      "INFO:     Waiting for application shutdown.\n",
      "INFO:     Application shutdown complete.\n",
      "INFO:     Finished server process [1111]\n"
     ]
    }
   ],
   "source": [
    "from fastapi import FastAPI\n",
    "from kafka import KafkaProducer\n",
    "import json\n",
    "import os\n",
    "import logging\n",
    "\n",
    "logger = logging.getLogger(__name__)  # the __name__ resolve to \"uicheckapp.services\"\n",
    "\n",
    "# this is a hack to multiply the work-load inserted into Kafka\n",
    "names_to_multiply = os.environ.get('NAMES_TO_MULTIPLY', '').split(\",\")\n",
    "\n",
    "_producer = None\n",
    "try:\n",
    "    _producer = KafkaProducer(bootstrap_servers=os.environ.get('KAFKA_BROKER', 'broker1:9093').split(\",\"), \n",
    "                              api_version=(0, 10),\n",
    "                              max_block_ms=10000)\n",
    "except Exception as ex:\n",
    "    logger.error('Exception while connecting Kafka')\n",
    "    logger.error(str(ex))\n",
    "\n",
    "\n",
    "app = FastAPI()\n",
    "\n",
    "\n",
    "@app.get(\"/\")\n",
    "async def root():\n",
    "    return {\"message\": \"Hello World\"}\n",
    "\n",
    "\n",
    "# insert URL into SensorLogger app: http://100.102.3.111:8080/data?device=Pixel6&person=Florin&activity=running\n",
    "# https://github.com/tszheichoi/awesome-sensor-logger/#live-data-streaming\n",
    "@app.post(\"/data\")\n",
    "async def data(data: dict, activity: str = None, device: str = None, person: str = None):\n",
    "    try:\n",
    "        for measurement in data[\"payload\"]:\n",
    "            timestamp_ms = int(measurement[\"time\"]) // 1_000_000 # convert nanoseconds to milliseconds\n",
    "            value_bytes = bytes(json.dumps(measurement[\"values\"]), encoding='utf-8')\n",
    "            for name in names_to_multiply + [person]:\n",
    "                key_bytes = bytes(f\"{name}:{device}:{activity}\", encoding='utf-8')\n",
    "                _producer.send(measurement['name'],\n",
    "                            key=key_bytes,\n",
    "                            value=value_bytes,\n",
    "                            timestamp_ms=timestamp_ms) \n",
    "        #_producer.flush()\n",
    "        logger.info('Message published successfully.')\n",
    "    except Exception as ex:\n",
    "        logger.error('Exception in publishing message')\n",
    "        logger.error(str(ex))\n",
    "    \n",
    "    raise Exception\n",
    "    return {\"message\": \"Sensor data received\"}\n",
    "\n",
    "import uvicorn\n",
    "import asyncio\n",
    "\n",
    "\n",
    "if __name__ == \"__main__\":\n",
    "    # TODO port1111!!!!!!!!!!\n",
    "    config = uvicorn.Config(app)\n",
    "    server = uvicorn.Server(config)\n",
    "    loop = asyncio.get_event_loop()\n",
    "    loop.create_task(server.serve())\n"
   ]
  }
 ],
 "metadata": {
  "kernelspec": {
   "display_name": "Python 3 (ipykernel)",
   "language": "python",
   "name": "python3"
  },
  "language_info": {
   "codemirror_mode": {
    "name": "ipython",
    "version": 3
   },
   "file_extension": ".py",
   "mimetype": "text/x-python",
   "name": "python",
   "nbconvert_exporter": "python",
   "pygments_lexer": "ipython3",
   "version": "3.10.9"
  }
 },
 "nbformat": 4,
 "nbformat_minor": 5
}

{
 "cells": [
  {
   "cell_type": "code",
   "execution_count": 2,
   "id": "121cdad6-c2c6-4659-b409-cd2c3f540c58",
   "metadata": {
    "tags": []
   },
   "outputs": [
    {
     "name": "stdout",
     "output_type": "stream",
     "text": [
      "Collecting fastapi\n",
      "  Using cached fastapi-0.95.0-py3-none-any.whl (57 kB)\n",
      "Collecting uvicorn\n",
      "  Using cached uvicorn-0.21.1-py3-none-any.whl (57 kB)\n",
      "Collecting kafka-python\n",
      "  Using cached kafka_python-2.0.2-py2.py3-none-any.whl (246 kB)\n",
      "Collecting starlette<0.27.0,>=0.26.1\n",
      "  Using cached starlette-0.26.1-py3-none-any.whl (66 kB)\n",
      "Collecting pydantic!=1.7,!=1.7.1,!=1.7.2,!=1.7.3,!=1.8,!=1.8.1,<2.0.0,>=1.6.2\n",
      "  Using cached pydantic-1.10.7-cp310-cp310-manylinux_2_17_x86_64.manylinux2014_x86_64.whl (3.1 MB)\n",
      "Collecting h11>=0.8\n",
      "  Using cached h11-0.14.0-py3-none-any.whl (58 kB)\n",
      "Requirement already satisfied: click>=7.0 in /opt/conda/lib/python3.10/site-packages (from uvicorn) (8.1.3)\n",
      "Requirement already satisfied: typing-extensions>=4.2.0 in /opt/conda/lib/python3.10/site-packages (from pydantic!=1.7,!=1.7.1,!=1.7.2,!=1.7.3,!=1.8,!=1.8.1,<2.0.0,>=1.6.2->fastapi) (4.4.0)\n",
      "Requirement already satisfied: anyio<5,>=3.4.0 in /opt/conda/lib/python3.10/site-packages (from starlette<0.27.0,>=0.26.1->fastapi) (3.6.2)\n",
      "Requirement already satisfied: sniffio>=1.1 in /opt/conda/lib/python3.10/site-packages (from anyio<5,>=3.4.0->starlette<0.27.0,>=0.26.1->fastapi) (1.3.0)\n",
      "Requirement already satisfied: idna>=2.8 in /opt/conda/lib/python3.10/site-packages (from anyio<5,>=3.4.0->starlette<0.27.0,>=0.26.1->fastapi) (3.4)\n",
      "Installing collected packages: kafka-python, pydantic, h11, uvicorn, starlette, fastapi\n",
      "Successfully installed fastapi-0.95.0 h11-0.14.0 kafka-python-2.0.2 pydantic-1.10.7 starlette-0.26.1 uvicorn-0.21.1\n"
     ]
    }
   ],
   "source": [
    "!pip install fastapi uvicorn kafka-python"
   ]
  },
  {
   "cell_type": "code",
   "execution_count": null,
   "id": "f4a54254-3f49-4de8-98f2-ddabc9101082",
   "metadata": {
    "tags": []
   },
   "outputs": [
    {
     "name": "stderr",
     "output_type": "stream",
     "text": [
      "INFO:     Started server process [989]\n",
      "INFO:     Waiting for application startup.\n",
      "INFO:     Application startup complete.\n",
      "INFO:     Uvicorn running on http://127.0.0.1:8000 (Press CTRL+C to quit)\n"
     ]
    }
   ],
   "source": [
    "from fastapi import FastAPI\n",
    "from kafka import KafkaProducer\n",
    "import json\n",
    "import os\n",
    "import logging\n",
    "import cProfile\n",
    "\n",
    "logger = logging.getLogger(__name__)  # the __name__ resolve to \"uicheckapp.services\"\n",
    "\n",
    "# this is a hack to multiply the work-load inserted into Kafka\n",
    "names_to_multiply = os.environ.get('NAMES_TO_MULTIPLY', '').split(\",\")\n",
    "\n",
    "_producer = None\n",
    "try:\n",
    "    _producer = KafkaProducer(bootstrap_servers=os.environ.get('KAFKA_BROKER', 'broker1:9093').split(\",\"), \n",
    "                              api_version=(0, 10),\n",
    "                              max_block_ms=10000)\n",
    "except Exception as ex:\n",
    "    logger.error('Exception while connecting Kafka')\n",
    "    logger.error(str(ex))\n",
    "\n",
    "\n",
    "app = FastAPI()\n",
    "\n",
    "\n",
    "@app.get(\"/\")\n",
    "async def root():\n",
    "    print(\"mega sus\")\n",
    "    return {\"message\": \"Hello World\"}\n",
    "\n",
    "\n",
    "# insert URL into SensorLogger app: http://100.102.3.111:8080/data?device=Pixel6&person=Florin&activity=running\n",
    "# https://github.com/tszheichoi/awesome-sensor-logger/#live-data-streaming\n",
    "@app.post(\"/data\")\n",
    "async def data(data: dict, activity: str = None, device: str = None, person: str = None):\n",
    "    profiler.enable()\n",
    "    try:\n",
    "        for measurement in data[\"payload\"]:\n",
    "            timestamp_ms = int(measurement[\"time\"]) // 1_000_000 # convert nanoseconds to milliseconds\n",
    "            value_bytes = bytes(json.dumps(measurement[\"values\"]), encoding='utf-8')\n",
    "            for name in names_to_multiply + [person]:\n",
    "                key_bytes = bytes(f\"{name}:{device}:{activity}\", encoding='utf-8')\n",
    "                _producer.send(measurement['name'],\n",
    "                            key=key_bytes,\n",
    "                            value=value_bytes,\n",
    "                            timestamp_ms=timestamp_ms) \n",
    "        #_producer.flush()\n",
    "        logger.info('Message published successfully.')\n",
    "    except Exception as ex:\n",
    "        logger.error('Exception in publishing message')\n",
    "        logger.error(str(ex))\n",
    "    profiler.disable()\n",
    "    raise Exception\n",
    "    return {\"message\": \"Sensor data received\"}\n",
    "\n",
    "import uvicorn\n",
    "import asyncio\n",
    "import nest_asyncio\n",
    "\n",
    "profiler = cProfile.Profile()\n",
    "\n",
    "\n",
    "if __name__ == \"__main__\":\n",
    "    nest_asyncio.apply()\n",
    "    uvicorn.run(app)\n",
    "    \"\"\"config = uvicorn.Config(app)\n",
    "    server = uvicorn.Server(config)\n",
    "    loop = asyncio.get_event_loop()\n",
    "    loop.create_task(server.serve())\n",
    "\"\"\""
   ]
  },
  {
   "cell_type": "code",
   "execution_count": null,
   "id": "cb3d959b-d9d8-4e72-9f36-8b1896c85202",
   "metadata": {},
   "outputs": [],
   "source": []
  },
  {
   "cell_type": "code",
   "execution_count": null,
   "id": "c7127edf-834c-4397-a04b-3291a6f5853e",
   "metadata": {},
   "outputs": [],
   "source": []
  },
  {
   "cell_type": "code",
   "execution_count": null,
   "id": "a8d93ecc-f276-41a9-b3a5-dbd06a7e04bc",
   "metadata": {},
   "outputs": [],
   "source": []
  }
 ],
 "metadata": {
  "kernelspec": {
   "display_name": "Python 3 (ipykernel)",
   "language": "python",
   "name": "python3"
  },
  "language_info": {
   "codemirror_mode": {
    "name": "ipython",
    "version": 3
   },
   "file_extension": ".py",
   "mimetype": "text/x-python",
   "name": "python",
   "nbconvert_exporter": "python",
   "pygments_lexer": "ipython3",
   "version": "3.10.9"
  }
 },
 "nbformat": 4,
 "nbformat_minor": 5
}

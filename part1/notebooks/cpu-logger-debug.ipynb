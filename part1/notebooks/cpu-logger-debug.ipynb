{
 "cells": [
  {
   "cell_type": "code",
   "execution_count": 1,
   "id": "3aebc07f-aba4-4ec8-8c98-a83bfa119801",
   "metadata": {
    "tags": []
   },
   "outputs": [
    {
     "name": "stderr",
     "output_type": "stream",
     "text": [
      "INFO:__main__:Kafka topic: cpu-logger\n",
      "INFO:kafka.conn:<BrokerConnection node_id=bootstrap-0 host=broker1:9093 <connecting> [IPv4 ('172.18.0.6', 9093)]>: connecting to broker1:9093 [('172.18.0.6', 9093) IPv4]\n",
      "INFO:kafka.conn:<BrokerConnection node_id=bootstrap-0 host=broker1:9093 <connecting> [IPv4 ('172.18.0.6', 9093)]>: Connection complete.\n",
      "INFO:kafka.conn:<BrokerConnection node_id=1 host=broker1:9093 <connecting> [IPv4 ('172.18.0.6', 9093)]>: connecting to broker1:9093 [('172.18.0.6', 9093) IPv4]\n",
      "INFO:kafka.conn:<BrokerConnection node_id=1 host=broker1:9093 <connecting> [IPv4 ('172.18.0.6', 9093)]>: Connection complete.\n",
      "INFO:kafka.conn:<BrokerConnection node_id=bootstrap-0 host=broker1:9093 <connected> [IPv4 ('172.18.0.6', 9093)]>: Closing connection. \n"
     ]
    },
    {
     "name": "stdout",
     "output_type": "stream",
     "text": [
      "Run 0 done!\n",
      "Run 10 done!\n",
      "Run 20 done!\n",
      "Run 30 done!\n",
      "Run 40 done!\n",
      "Run 50 done!\n",
      "Run 60 done!\n",
      "Run 70 done!\n",
      "Run 80 done!\n",
      "Run 90 done!\n",
      "Run 100 done!\n",
      "Run 110 done!\n",
      "Run 120 done!\n",
      "Run 130 done!\n",
      "Run 140 done!\n",
      "Run 150 done!\n",
      "Run 160 done!\n",
      "Run 170 done!\n",
      "Run 180 done!\n",
      "Run 190 done!\n",
      "Run 200 done!\n",
      "Run 210 done!\n",
      "Run 220 done!\n",
      "Run 230 done!\n",
      "Run 240 done!\n",
      "Run 250 done!\n",
      "Run 260 done!\n",
      "Run 270 done!\n",
      "Run 280 done!\n",
      "Run 290 done!\n",
      "Run 300 done!\n",
      "Run 310 done!\n",
      "Run 320 done!\n",
      "Run 330 done!\n",
      "Run 340 done!\n",
      "Run 350 done!\n",
      "Run 360 done!\n",
      "Run 370 done!\n",
      "Run 380 done!\n",
      "Run 390 done!\n",
      "Run 400 done!\n",
      "Run 410 done!\n",
      "Run 420 done!\n",
      "Run 430 done!\n",
      "Run 440 done!\n",
      "Run 450 done!\n",
      "Run 460 done!\n",
      "Run 470 done!\n",
      "Run 480 done!\n",
      "Run 490 done!\n",
      "Run 500 done!\n",
      "Run 510 done!\n",
      "Run 520 done!\n",
      "Run 530 done!\n",
      "Run 540 done!\n",
      "Run 550 done!\n",
      "Run 560 done!\n",
      "Run 570 done!\n",
      "Run 580 done!\n",
      "Run 590 done!\n",
      "Done with logging\n"
     ]
    }
   ],
   "source": [
    "from kafka import KafkaProducer\n",
    "import os\n",
    "import logging\n",
    "import psutil\n",
    "import time\n",
    "\n",
    "\n",
    "logging.basicConfig(level=logging.INFO)\n",
    "logger = logging.getLogger(__name__)\n",
    "\n",
    "\n",
    "topic = os.environ.get('KAFKA_TOPIC', \"cpu-logger\")\n",
    "logger.info(f\"Kafka topic: {topic}\")\n",
    "\n",
    "_producer = None\n",
    "try:\n",
    "    _producer = KafkaProducer(bootstrap_servers=os.environ.get('KAFKA_BROKER', 'broker1:9093').split(\",\"), \n",
    "                              api_version=(0, 10),\n",
    "                              max_block_ms=10000)\n",
    "except Exception as ex:\n",
    "    logger.error('Exception while connecting Kafka', exc_info=True)\n",
    "\n",
    "    \n",
    "time_measurements = []\n",
    "num_runs = 600 # this is 5 minutes worth of data\n",
    "run = 0\n",
    "loops = 100\n",
    "\n",
    "while run < num_runs:\n",
    "    start = time.time()\n",
    "    for i in range(loops):\n",
    "        try:\n",
    "            message = ','.join([str(p) for p in psutil.cpu_percent(interval=0, percpu=True)])\n",
    "            value_bytes = bytes(message, encoding='utf-8')\n",
    "            _producer.send(topic=topic, \n",
    "                           value=value_bytes)\n",
    "            _producer.flush()\n",
    "            #logger.info('Message published successfully.')\n",
    "        except Exception as ex:\n",
    "            logger.error('Exception in publishing message', exc_info=True)\n",
    "    end = time.time()\n",
    "    time_measurements.append({\"count\": loops, \"dur\": end-start})\n",
    "    if run % 10 == 0:\n",
    "        print(f\"Run {run} done!\")\n",
    "    run += 1\n",
    "\n",
    "    time.sleep(0.5)\n",
    "\n",
    "print(\"Done with logging\")"
   ]
  },
  {
   "cell_type": "code",
   "execution_count": 2,
   "id": "ab488354-797e-4014-886f-3b180b9ae672",
   "metadata": {
    "tags": []
   },
   "outputs": [
    {
     "data": {
      "text/plain": [
       "600"
      ]
     },
     "execution_count": 2,
     "metadata": {},
     "output_type": "execute_result"
    }
   ],
   "source": [
    "len(time_measurements)"
   ]
  },
  {
   "cell_type": "code",
   "execution_count": 3,
   "id": "92134bb4-1ad0-41a1-906e-5188a2ee1840",
   "metadata": {
    "tags": []
   },
   "outputs": [
    {
     "name": "stderr",
     "output_type": "stream",
     "text": [
      "INFO:numexpr.utils:Note: NumExpr detected 12 cores but \"NUMEXPR_MAX_THREADS\" not set, so enforcing safe limit of 8.\n",
      "INFO:numexpr.utils:NumExpr defaulting to 8 threads.\n"
     ]
    },
    {
     "data": {
      "text/html": [
       "<div>\n",
       "<style scoped>\n",
       "    .dataframe tbody tr th:only-of-type {\n",
       "        vertical-align: middle;\n",
       "    }\n",
       "\n",
       "    .dataframe tbody tr th {\n",
       "        vertical-align: top;\n",
       "    }\n",
       "\n",
       "    .dataframe thead th {\n",
       "        text-align: right;\n",
       "    }\n",
       "</style>\n",
       "<table border=\"1\" class=\"dataframe\">\n",
       "  <thead>\n",
       "    <tr style=\"text-align: right;\">\n",
       "      <th></th>\n",
       "      <th>count</th>\n",
       "      <th>dur</th>\n",
       "    </tr>\n",
       "  </thead>\n",
       "  <tbody>\n",
       "    <tr>\n",
       "      <th>107</th>\n",
       "      <td>100</td>\n",
       "      <td>0.097180</td>\n",
       "    </tr>\n",
       "    <tr>\n",
       "      <th>231</th>\n",
       "      <td>100</td>\n",
       "      <td>0.121699</td>\n",
       "    </tr>\n",
       "    <tr>\n",
       "      <th>370</th>\n",
       "      <td>100</td>\n",
       "      <td>0.096483</td>\n",
       "    </tr>\n",
       "    <tr>\n",
       "      <th>172</th>\n",
       "      <td>100</td>\n",
       "      <td>0.115778</td>\n",
       "    </tr>\n",
       "    <tr>\n",
       "      <th>201</th>\n",
       "      <td>100</td>\n",
       "      <td>0.133921</td>\n",
       "    </tr>\n",
       "    <tr>\n",
       "      <th>16</th>\n",
       "      <td>100</td>\n",
       "      <td>0.139009</td>\n",
       "    </tr>\n",
       "    <tr>\n",
       "      <th>80</th>\n",
       "      <td>100</td>\n",
       "      <td>0.120838</td>\n",
       "    </tr>\n",
       "    <tr>\n",
       "      <th>317</th>\n",
       "      <td>100</td>\n",
       "      <td>0.108122</td>\n",
       "    </tr>\n",
       "    <tr>\n",
       "      <th>60</th>\n",
       "      <td>100</td>\n",
       "      <td>0.088441</td>\n",
       "    </tr>\n",
       "    <tr>\n",
       "      <th>316</th>\n",
       "      <td>100</td>\n",
       "      <td>0.095972</td>\n",
       "    </tr>\n",
       "  </tbody>\n",
       "</table>\n",
       "</div>"
      ],
      "text/plain": [
       "     count       dur\n",
       "107    100  0.097180\n",
       "231    100  0.121699\n",
       "370    100  0.096483\n",
       "172    100  0.115778\n",
       "201    100  0.133921\n",
       "16     100  0.139009\n",
       "80     100  0.120838\n",
       "317    100  0.108122\n",
       "60     100  0.088441\n",
       "316    100  0.095972"
      ]
     },
     "execution_count": 3,
     "metadata": {},
     "output_type": "execute_result"
    }
   ],
   "source": [
    "import numpy as np\n",
    "import pandas as pd\n",
    "\n",
    "df = pd.DataFrame(time_measurements[0:num_runs])\n",
    "df.sample(10)"
   ]
  },
  {
   "cell_type": "code",
   "execution_count": 4,
   "id": "795692ba-60d8-4c29-867f-b2808618d88c",
   "metadata": {
    "tags": []
   },
   "outputs": [
    {
     "data": {
      "text/plain": [
       "count    600.000000\n",
       "mean       0.117490\n",
       "std        0.018154\n",
       "min        0.087933\n",
       "25%        0.101728\n",
       "50%        0.114293\n",
       "75%        0.131479\n",
       "max        0.200397\n",
       "Name: dur, dtype: float64"
      ]
     },
     "execution_count": 4,
     "metadata": {},
     "output_type": "execute_result"
    }
   ],
   "source": [
    "desc = df[\"dur\"].describe()\n",
    "desc"
   ]
  },
  {
   "cell_type": "code",
   "execution_count": 6,
   "id": "3187c70e-09bb-483f-bd26-97c2fa5e204b",
   "metadata": {
    "tags": []
   },
   "outputs": [
    {
     "data": {
      "image/png": "[encoded data removed]",
      "text/plain": [
       "<Figure size 640x480 with 1 Axes>"
      ]
     },
     "metadata": {},
     "output_type": "display_data"
    }
   ],
   "source": [
    "# plot a histogram\n",
    "import matplotlib.pyplot as plt\n",
    "import scipy.stats as stats\n",
    "\n",
    "plt.hist(df['dur'], bins=30)\n",
    "plt.ylabel('Count')\n",
    "plt.xlabel('Duration [s]')\n",
    "title = f\"Duration for inserting {loops} messages: mu = {desc['mean']*1000:.2f}ms,  std = {desc['std']*1000:.2f}ms\"\n",
    "plt.title(title)\n",
    "plt.show()"
   ]
  }
 ],
 "metadata": {
  "kernelspec": {
   "display_name": "Python 3 (ipykernel)",
   "language": "python",
   "name": "python3"
  },
  "language_info": {
   "codemirror_mode": {
    "name": "ipython",
    "version": 3
   },
   "file_extension": ".py",
   "mimetype": "text/x-python",
   "name": "python",
   "nbconvert_exporter": "python",
   "pygments_lexer": "ipython3",
   "version": "3.10.9"
  }
 },
 "nbformat": 4,
 "nbformat_minor": 5
}

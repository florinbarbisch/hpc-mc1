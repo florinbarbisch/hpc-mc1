{
 "cells": [
  {
   "cell_type": "code",
   "execution_count": 2,
   "id": "d06de378-0fe5-4d0f-83ac-f0bdac7b8691",
   "metadata": {
    "tags": []
   },
   "outputs": [
    {
     "name": "stdout",
     "output_type": "stream",
     "text": [
      "Collecting kafka-python\n",
      "  Downloading kafka_python-2.0.2-py2.py3-none-any.whl (246 kB)\n",
      "\u001b[2K     \u001b[90m━━━━━━━━━━━━━━━━━━━━━━━━━━━━━━━━━━━━━━━\u001b[0m \u001b[32m246.5/246.5 kB\u001b[0m \u001b[31m1.9 MB/s\u001b[0m eta \u001b[36m0:00:00\u001b[0m00:01\u001b[0m00:01\u001b[0m\n",
      "\u001b[?25hInstalling collected packages: kafka-python\n",
      "Successfully installed kafka-python-2.0.2\n"
     ]
    }
   ],
   "source": [
    "!pip install kafka-python"
   ]
  },
  {
   "cell_type": "code",
   "execution_count": 7,
   "id": "5544efb2-c094-4649-9772-be92e60bd132",
   "metadata": {
    "tags": []
   },
   "outputs": [],
   "source": [
    "from kafka import KafkaConsumer, KafkaProducer\n",
    "import json\n",
    "import uuid\n",
    "import os\n",
    "import logging\n",
    "import sys\n",
    "import time\n",
    "import multiprocessing"
   ]
  },
  {
   "cell_type": "code",
   "execution_count": 2,
   "id": "ad03e33f-b9a9-4e34-844e-a5b26b121b3c",
   "metadata": {
    "tags": []
   },
   "outputs": [
    {
     "name": "stderr",
     "output_type": "stream",
     "text": [
      "INFO:kafka.consumer.subscription_state:Updating subscribed topics to: ('accelerometer',)\n"
     ]
    }
   ],
   "source": [
    "\n",
    "logging.basicConfig(level=logging.INFO)\n",
    "logger = logging.getLogger(__name__)\n",
    "\n",
    "\n",
    "consumer = KafkaConsumer(os.environ.get('KAFKA_TOPIC', \"accelerometer\"), \n",
    "                         auto_offset_reset = 'earliest',\n",
    "                         bootstrap_servers = os.environ.get('KAFKA_BROKER', 'broker1:9093').split(\",\"), \n",
    "                         group_id = os.environ.get('KAFKA_GROUP_ID', \"accelerometer-group\"),\n",
    "                         api_version = (0, 10), \n",
    "                         value_deserializer = json.loads,\n",
    "                         consumer_timeout_ms = 1000)\n"
   ]
  },
  {
   "cell_type": "code",
   "execution_count": 10,
   "id": "a6a27f52-bd9e-4862-8f3d-9a5995a70fe5",
   "metadata": {
    "tags": []
   },
   "outputs": [
    {
     "name": "stderr",
     "output_type": "stream",
     "text": [
      "ERROR:__main__:Exception in consuming message\n",
      "Traceback (most recent call last):\n",
      "  File \"/tmp/ipykernel_1467/1706118325.py\", line 9, in <module>\n",
      "    i = 1 / 0\n",
      "ZeroDivisionError: division by zero\n"
     ]
    },
    {
     "name": "stdout",
     "output_type": "stream",
     "text": [
      "Read Message 1ConsumerRecord(topic='accelerometer', partition=0, offset=4446, timestamp=1679241871087, timestamp_type=0, key=b'Florin:Pixel6:running', value={'z': -0.023714065551757812, 'y': 0.001400083303451538, 'x': 0.0017737597227096558}, headers=[], checksum=4022338423, serialized_key_size=21, serialized_value_size=83, serialized_header_size=-1)\n"
     ]
    },
    {
     "name": "stderr",
     "output_type": "stream",
     "text": [
      "ERROR:__main__:Exception in consuming message\n",
      "Traceback (most recent call last):\n",
      "  File \"/tmp/ipykernel_1467/1706118325.py\", line 9, in <module>\n",
      "    i = 1 / 0\n",
      "ZeroDivisionError: division by zero\n"
     ]
    },
    {
     "name": "stdout",
     "output_type": "stream",
     "text": [
      "Read Message 2ConsumerRecord(topic='accelerometer', partition=0, offset=4447, timestamp=1679241871101, timestamp_type=0, key=b'Florin:Pixel6:running', value={'z': -0.05500221252441406, 'y': -0.014815151691436768, 'x': 0.0024007409811019897}, headers=[], checksum=1005860036, serialized_key_size=21, serialized_value_size=83, serialized_header_size=-1)\n"
     ]
    },
    {
     "name": "stderr",
     "output_type": "stream",
     "text": [
      "ERROR:__main__:Exception in consuming message\n",
      "Traceback (most recent call last):\n",
      "  File \"/tmp/ipykernel_1467/1706118325.py\", line 9, in <module>\n",
      "    i = 1 / 0\n",
      "ZeroDivisionError: division by zero\n"
     ]
    },
    {
     "name": "stdout",
     "output_type": "stream",
     "text": [
      "Read Message 3ConsumerRecord(topic='accelerometer', partition=0, offset=4448, timestamp=1679241871114, timestamp_type=0, key=b'Florin:Pixel6:running', value={'z': -0.05514812469482422, 'y': -0.03120476007461548, 'x': -0.0005069226026535034}, headers=[], checksum=4027174537, serialized_key_size=21, serialized_value_size=83, serialized_header_size=-1)\n"
     ]
    },
    {
     "name": "stderr",
     "output_type": "stream",
     "text": [
      "ERROR:__main__:Exception in consuming message\n",
      "Traceback (most recent call last):\n",
      "  File \"/tmp/ipykernel_1467/1706118325.py\", line 9, in <module>\n",
      "    i = 1 / 0\n",
      "ZeroDivisionError: division by zero\n"
     ]
    },
    {
     "name": "stdout",
     "output_type": "stream",
     "text": [
      "Read Message 4ConsumerRecord(topic='accelerometer', partition=0, offset=4449, timestamp=1679241871128, timestamp_type=0, key=b'Florin:Pixel6:running', value={'z': -0.020712852478027344, 'y': -0.02368021011352539, 'x': 0.004782959818840027}, headers=[], checksum=78976100, serialized_key_size=21, serialized_value_size=82, serialized_header_size=-1)\n"
     ]
    },
    {
     "name": "stderr",
     "output_type": "stream",
     "text": [
      "ERROR:__main__:Exception in consuming message\n",
      "Traceback (most recent call last):\n",
      "  File \"/tmp/ipykernel_1467/1706118325.py\", line 9, in <module>\n",
      "    i = 1 / 0\n",
      "ZeroDivisionError: division by zero\n"
     ]
    },
    {
     "name": "stdout",
     "output_type": "stream",
     "text": [
      "Read Message 5ConsumerRecord(topic='accelerometer', partition=0, offset=4450, timestamp=1679241871142, timestamp_type=0, key=b'Florin:Pixel6:running', value={'z': -0.03220939636230469, 'y': -0.02528059482574463, 'x': -0.0062341392040252686}, headers=[], checksum=774514655, serialized_key_size=21, serialized_value_size=83, serialized_header_size=-1)\n"
     ]
    },
    {
     "name": "stderr",
     "output_type": "stream",
     "text": [
      "ERROR:__main__:Exception in consuming message\n",
      "Traceback (most recent call last):\n",
      "  File \"/tmp/ipykernel_1467/1706118325.py\", line 9, in <module>\n",
      "    i = 1 / 0\n",
      "ZeroDivisionError: division by zero\n"
     ]
    },
    {
     "name": "stdout",
     "output_type": "stream",
     "text": [
      "Read Message 6ConsumerRecord(topic='accelerometer', partition=0, offset=4451, timestamp=1679241871155, timestamp_type=0, key=b'Florin:Pixel6:running', value={'z': -0.05154228210449219, 'y': -0.04234659671783447, 'x': -0.005459144711494446}, headers=[], checksum=3773815426, serialized_key_size=21, serialized_value_size=82, serialized_header_size=-1)\n"
     ]
    },
    {
     "name": "stderr",
     "output_type": "stream",
     "text": [
      "ERROR:__main__:Exception in consuming message\n",
      "Traceback (most recent call last):\n",
      "  File \"/tmp/ipykernel_1467/1706118325.py\", line 9, in <module>\n",
      "    i = 1 / 0\n",
      "ZeroDivisionError: division by zero\n"
     ]
    },
    {
     "name": "stdout",
     "output_type": "stream",
     "text": [
      "Read Message 7ConsumerRecord(topic='accelerometer', partition=0, offset=4452, timestamp=1679241871169, timestamp_type=0, key=b'Florin:Pixel6:running', value={'z': -0.03511333465576172, 'y': -0.01749160885810852, 'x': 0.002600446343421936}, headers=[], checksum=717209499, serialized_key_size=21, serialized_value_size=81, serialized_header_size=-1)\n"
     ]
    },
    {
     "name": "stderr",
     "output_type": "stream",
     "text": [
      "ERROR:__main__:Exception in consuming message\n",
      "Traceback (most recent call last):\n",
      "  File \"/tmp/ipykernel_1467/1706118325.py\", line 9, in <module>\n",
      "    i = 1 / 0\n",
      "ZeroDivisionError: division by zero\n"
     ]
    },
    {
     "name": "stdout",
     "output_type": "stream",
     "text": [
      "Read Message 8ConsumerRecord(topic='accelerometer', partition=0, offset=4453, timestamp=1679241871183, timestamp_type=0, key=b'Florin:Pixel6:running', value={'z': -0.038048744201660156, 'y': -0.01506689190864563, 'x': -7.267296314239502e-05}, headers=[], checksum=4181314358, serialized_key_size=21, serialized_value_size=84, serialized_header_size=-1)\n"
     ]
    },
    {
     "name": "stderr",
     "output_type": "stream",
     "text": [
      "ERROR:__main__:Exception in consuming message\n",
      "Traceback (most recent call last):\n",
      "  File \"/tmp/ipykernel_1467/1706118325.py\", line 9, in <module>\n",
      "    i = 1 / 0\n",
      "ZeroDivisionError: division by zero\n"
     ]
    },
    {
     "name": "stdout",
     "output_type": "stream",
     "text": [
      "Read Message 9ConsumerRecord(topic='accelerometer', partition=0, offset=4454, timestamp=1679241871196, timestamp_type=0, key=b'Florin:Pixel6:running', value={'z': -0.049780845642089844, 'y': 0.008030325174331665, 'x': -0.0022527724504470825}, headers=[], checksum=1580391570, serialized_key_size=21, serialized_value_size=84, serialized_header_size=-1)\n"
     ]
    },
    {
     "ename": "KeyboardInterrupt",
     "evalue": "",
     "output_type": "error",
     "traceback": [
      "\u001b[0;31m---------------------------------------------------------------------------\u001b[0m",
      "\u001b[0;31mKeyboardInterrupt\u001b[0m                         Traceback (most recent call last)",
      "Cell \u001b[0;32mIn[10], line 15\u001b[0m\n\u001b[1;32m     12\u001b[0m \u001b[38;5;28;01mexcept\u001b[39;00m \u001b[38;5;167;01mException\u001b[39;00m \u001b[38;5;28;01mas\u001b[39;00m ex:\n\u001b[1;32m     13\u001b[0m     logger\u001b[38;5;241m.\u001b[39merror(\u001b[38;5;124m'\u001b[39m\u001b[38;5;124mException in consuming message\u001b[39m\u001b[38;5;124m'\u001b[39m, exc_info\u001b[38;5;241m=\u001b[39m\u001b[38;5;28;01mTrue\u001b[39;00m)\n\u001b[0;32m---> 15\u001b[0m \u001b[43mtime\u001b[49m\u001b[38;5;241;43m.\u001b[39;49m\u001b[43msleep\u001b[49m\u001b[43m(\u001b[49m\u001b[38;5;241;43m0.5\u001b[39;49m\u001b[43m)\u001b[49m\n",
      "\u001b[0;31mKeyboardInterrupt\u001b[0m: "
     ]
    }
   ],
   "source": [
    "count = 0\n",
    "\n",
    "messages_by_key = {}\n",
    "\n",
    "while True:\n",
    "    try:\n",
    "        messages = []\n",
    "        for message in consumer:\n",
    "            if message.key not in messages_by_key:\n",
    "                messages_by_key[message.key] = []\n",
    "\n",
    "            messages_by_key[message.key].append([message.timestamp, message.value.get('x'), message.value.get('y'), message.value.get('z')])\n",
    "\n",
    "            count += 1\n",
    "            sys.stdout.write(f\"\\rRead Message {count}\")\n",
    "            print(message)\n",
    "            i = 1 / 0\n",
    "        # commit offsets so we won't get the same messages again\n",
    "        consumer.commit()\n",
    "    except Exception as ex:\n",
    "        logger.error('Exception in consuming message', exc_info=True)\n",
    "\n",
    "    time.sleep(0.5)"
   ]
  },
  {
   "cell_type": "code",
   "execution_count": null,
   "id": "e7ed3566-677b-4f6e-be88-ca08776e021b",
   "metadata": {},
   "outputs": [],
   "source": []
  }
 ],
 "metadata": {
  "kernelspec": {
   "display_name": "Python 3 (ipykernel)",
   "language": "python",
   "name": "python3"
  },
  "language_info": {
   "codemirror_mode": {
    "name": "ipython",
    "version": 3
   },
   "file_extension": ".py",
   "mimetype": "text/x-python",
   "name": "python",
   "nbconvert_exporter": "python",
   "pygments_lexer": "ipython3",
   "version": "3.10.9"
  }
 },
 "nbformat": 4,
 "nbformat_minor": 5
}

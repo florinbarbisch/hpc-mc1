{
 "cells": [
  {
   "cell_type": "code",
   "execution_count": 1,
   "id": "d06de378-0fe5-4d0f-83ac-f0bdac7b8691",
   "metadata": {
    "tags": []
   },
   "outputs": [
    {
     "name": "stdout",
     "output_type": "stream",
     "text": [
      "Requirement already satisfied: kafka-python in /opt/conda/lib/python3.10/site-packages (2.0.2)\n",
      "Requirement already satisfied: viztracer in /opt/conda/lib/python3.10/site-packages (0.15.6)\n",
      "Requirement already satisfied: objprint>=0.1.3 in /opt/conda/lib/python3.10/site-packages (from viztracer) (0.2.2)\n"
     ]
    }
   ],
   "source": [
    "!pip install kafka-python\n",
    "!pip install viztracer"
   ]
  },
  {
   "cell_type": "code",
   "execution_count": 2,
   "id": "5544efb2-c094-4649-9772-be92e60bd132",
   "metadata": {
    "tags": []
   },
   "outputs": [],
   "source": [
    "from kafka import KafkaConsumer, KafkaProducer\n",
    "import json\n",
    "import uuid\n",
    "import os\n",
    "import logging\n",
    "import sys\n",
    "import time\n",
    "import multiprocessing\n",
    "from scipy.fft import fft\n",
    "import numpy as np\n",
    "import cProfile\n",
    "\n",
    "\n",
    "multiprocessing.set_start_method('fork')"
   ]
  },
  {
   "cell_type": "code",
   "execution_count": 3,
   "id": "c6d68fda-8786-4b1f-bd01-f8a06bfb748d",
   "metadata": {
    "tags": []
   },
   "outputs": [],
   "source": [
    "\n",
    "def test():\n",
    "    time.sleep(1)"
   ]
  },
  {
   "cell_type": "code",
   "execution_count": 4,
   "id": "c21a64d3-53f0-42a0-b3c5-b862cf2f2bb9",
   "metadata": {
    "tags": []
   },
   "outputs": [],
   "source": [
    "%load_ext viztracer"
   ]
  },
  {
   "cell_type": "code",
   "execution_count": 5,
   "id": "6e21d996-4cb5-49ae-828d-c6294db10968",
   "metadata": {
    "tags": []
   },
   "outputs": [
    {
     "data": {
      "application/vnd.jupyter.widget-view+json": {
       "model_id": "b65275b8fbd04f6ebc252a7025c9a8be",
       "version_major": 2,
       "version_minor": 0
      },
      "text/plain": [
       "Button(description='VizTracer Report', style=ButtonStyle())"
      ]
     },
     "metadata": {},
     "output_type": "display_data"
    }
   ],
   "source": [
    "%%viztracer --port 1221\n",
    "test()"
   ]
  },
  {
   "cell_type": "code",
   "execution_count": 6,
   "id": "ad03e33f-b9a9-4e34-844e-a5b26b121b3c",
   "metadata": {
    "tags": []
   },
   "outputs": [],
   "source": [
    "\n",
    "logging.basicConfig(level=logging.INFO)\n",
    "logger = logging.getLogger(__name__)\n",
    "\n"
   ]
  },
  {
   "cell_type": "code",
   "execution_count": 7,
   "id": "a23bfbf7-9eb1-42b1-aa89-bc7e1668b1b2",
   "metadata": {
    "tags": []
   },
   "outputs": [],
   "source": [
    "\n",
    "\n",
    "    \n",
    "profiler = cProfile.Profile()\n",
    "profiler.enable()\n",
    "\n",
    "    \n",
    "test()\n",
    "\n",
    "profiler.disable()\n",
    "profiler.dump_stats(\"example.stats\")\n"
   ]
  },
  {
   "cell_type": "code",
   "execution_count": 8,
   "id": "822226dd-e66e-4ae1-9ff7-a6aea5db2b61",
   "metadata": {
    "tags": []
   },
   "outputs": [
    {
     "name": "stdout",
     "output_type": "stream",
     "text": [
      "Sun Mar 19 19:44:31 2023    example.stats\n",
      "\n",
      "         40 function calls in 1.001 seconds\n",
      "\n",
      "   Random listing order was used\n",
      "\n",
      "   ncalls  tottime  percall  cumtime  percall filename:lineno(function)\n",
      "        2    0.000    0.000    0.000    0.000 {built-in method builtins.compile}\n",
      "        2    0.000    0.000    1.001    0.501 {built-in method builtins.exec}\n",
      "        4    0.000    0.000    0.000    0.000 {built-in method builtins.getattr}\n",
      "        4    0.000    0.000    0.000    0.000 {built-in method builtins.next}\n",
      "        1    1.001    1.001    1.001    1.001 {built-in method time.sleep}\n",
      "        1    0.000    0.000    1.001    1.001 /tmp/ipykernel_209/128752399.py:1(test)\n",
      "        1    0.000    0.000    1.001    1.001 /tmp/ipykernel_209/4142370257.py:1(<module>)\n",
      "        2    0.000    0.000    0.000    0.000 /opt/conda/lib/python3.10/site-packages/IPython/core/interactiveshell.py:1227(user_global_ns)\n",
      "        2    0.000    0.000    0.000    0.000 /opt/conda/lib/python3.10/site-packages/IPython/core/interactiveshell.py:3376(compare)\n",
      "        2    0.000    0.000    1.001    0.501 /opt/conda/lib/python3.10/site-packages/IPython/core/interactiveshell.py:3424(run_code)\n",
      "        4    0.000    0.000    0.000    0.000 /opt/conda/lib/python3.10/site-packages/IPython/core/compilerop.py:180(extra_flags)\n",
      "        2    0.000    0.000    0.000    0.000 /opt/conda/lib/python3.10/codeop.py:117(__call__)\n",
      "        1    0.000    0.000    0.000    0.000 {method 'disable' of '_lsprof.Profiler' objects}\n",
      "        2    0.000    0.000    0.000    0.000 /opt/conda/lib/python3.10/site-packages/traitlets/traitlets.py:654(get)\n",
      "        2    0.000    0.000    0.000    0.000 /opt/conda/lib/python3.10/site-packages/traitlets/traitlets.py:692(__get__)\n",
      "        2    0.000    0.000    0.000    0.000 /opt/conda/lib/python3.10/contextlib.py:102(__init__)\n",
      "        2    0.000    0.000    0.000    0.000 /opt/conda/lib/python3.10/contextlib.py:130(__enter__)\n",
      "        2    0.000    0.000    0.000    0.000 /opt/conda/lib/python3.10/contextlib.py:139(__exit__)\n",
      "        2    0.000    0.000    0.000    0.000 /opt/conda/lib/python3.10/contextlib.py:279(helper)\n",
      "\n",
      "\n"
     ]
    },
    {
     "data": {
      "text/plain": [
       "<pstats.Stats at 0x7f69f2eb5d20>"
      ]
     },
     "execution_count": 8,
     "metadata": {},
     "output_type": "execute_result"
    }
   ],
   "source": [
    "import pstats\n",
    "stats = pstats.Stats(\"example.stats\")\n",
    "stats.print_stats()"
   ]
  },
  {
   "cell_type": "code",
   "execution_count": 9,
   "id": "a6a27f52-bd9e-4862-8f3d-9a5995a70fe5",
   "metadata": {
    "tags": []
   },
   "outputs": [],
   "source": [
    "def consume_messages(pipe_connection):\n",
    "    sys.stdout.write(\"Starting\\n\")\n",
    "    sys.stdout.flush()\n",
    "    \n",
    "\n",
    "    consumer = KafkaConsumer(os.environ.get('KAFKA_TOPIC', \"accelerometer\"), \n",
    "                             auto_offset_reset = 'earliest',\n",
    "                             bootstrap_servers = os.environ.get('KAFKA_BROKER', 'broker1:9093').split(\",\"), \n",
    "                             group_id = os.environ.get('KAFKA_GROUP_ID', \"accelerometer-group\"),\n",
    "                             api_version = (0, 10), \n",
    "                             value_deserializer = json.loads,\n",
    "                             consumer_timeout_ms = 1000)\n",
    "    sys.stdout.write(\"consumer done\\n\")\n",
    "    sys.stdout.flush()\n",
    "\n",
    "    messages_by_key = {}\n",
    "    \n",
    "    count = 0\n",
    "    last_ordering = 0\n",
    "    while True:\n",
    "        # Step 1: Consume messages\n",
    "        try:\n",
    "            for message in consumer:\n",
    "                if count == 0:\n",
    "                    sys.stdout.write(str(message))\n",
    "                    sys.stdout.write(\"\\n\")\n",
    "                    sys.stdout.flush()\n",
    "                # convert bytes to string\n",
    "                key = message.key.decode('utf-8')\n",
    "                if key not in messages_by_key:\n",
    "                    # add a mulltiprocessing.Dictionary to the dictionary\n",
    "                    messages_by_key[key] = {}\n",
    "                    \n",
    "                messages_current_key = messages_by_key[key]\n",
    "\n",
    "                seconds = int(message.timestamp / 1000)\n",
    "                if seconds not in messages_current_key:\n",
    "                    # add a mulltiprocessing.Queue for each second\n",
    "                    messages_current_key[seconds] = []\n",
    "\n",
    "                messages_current_key_seconds = messages_current_key[seconds]\n",
    "\n",
    "                messages_current_key_seconds.append([\n",
    "                    message.timestamp, \n",
    "                    message.value.get('x'),\n",
    "                    message.value.get('y'), \n",
    "                    message.value.get('z')\n",
    "                    ])\n",
    "\n",
    "                sys.stdout.write(f\"\\rRead Message {count}\")\n",
    "                count += 1\n",
    "                \n",
    "                if count-100 >= last_ordering:\n",
    "                    # Step 2: Order messages and send to pipe\n",
    "                    for key in messages_by_key:\n",
    "                        messages_current_key = messages_by_key[key]\n",
    "                        seconds = list(messages_current_key.keys())\n",
    "                        # only process the first n-1 seconds\n",
    "                        for second in seconds[:-1]:\n",
    "                            messages_current_key_seconds = messages_current_key[second]\n",
    "                            messages_current_key_seconds.sort(key=lambda x: x[0])\n",
    "                            # send the messages to the pipe\n",
    "                            pipe_connection.send({\n",
    "                                'key': key,\n",
    "                                'second': second,\n",
    "                                'x': [x[1] for x in messages_current_key_seconds],\n",
    "                                'y': [x[2] for x in messages_current_key_seconds],\n",
    "                                'z': [x[3] for x in messages_current_key_seconds]\n",
    "                            })\n",
    "                            # remove the messages from the dictionary\n",
    "                            del messages_current_key[second]\n",
    "                    last_ordering = count\n",
    "                    # commit offsets so we won't get the same messages again\n",
    "                    consumer.commit()\n",
    "        except Exception as ex:\n",
    "            logger.error('Exception in consuming message', exc_info=True)\n",
    "\n",
    "        time.sleep(0.05)"
   ]
  },
  {
   "cell_type": "code",
   "execution_count": 10,
   "id": "e7ed3566-677b-4f6e-be88-ca08776e021b",
   "metadata": {
    "tags": []
   },
   "outputs": [],
   "source": [
    "def complex_ndarray_to_list(complex_ndarray):\n",
    "    return [complex_ndarray.real.tolist(), complex_ndarray.imag.tolist()]\n",
    "\n",
    "def process_messages(pipe_connection):\n",
    "    producer = KafkaProducer(bootstrap_servers=os.environ.get('KAFKA_BROKER', 'broker1:9093').split(\",\"), \n",
    "                              api_version=(0, 10),\n",
    "                              max_block_ms=10000)\n",
    "    # poll the pipe for messages and compute the fft\n",
    "    while True:\n",
    "        message = pipe_connection.recv()\n",
    "        key = message['key']\n",
    "        second = message['second']\n",
    "        \n",
    "        # compute the fft\n",
    "        x_fft = fft(message['x'])\n",
    "        y_fft = fft(message['y'])\n",
    "        z_fft = fft(message['z'])\n",
    "        # send the fft to the producer\n",
    "        message = {\n",
    "                    'second': second,\n",
    "                    'x': complex_ndarray_to_list(x_fft),\n",
    "                    'y': complex_ndarray_to_list(y_fft),\n",
    "                    'z': complex_ndarray_to_list(z_fft)\n",
    "            }\n",
    "        producer.send('accelerometer-fft',\n",
    "                        key=key.encode('utf-8'),\n",
    "                        value=bytes(json.dumps(message), encoding='utf-8'))\n",
    "        producer.flush()"
   ]
  },
  {
   "cell_type": "code",
   "execution_count": 11,
   "id": "5fae3203",
   "metadata": {
    "tags": []
   },
   "outputs": [
    {
     "name": "stdout",
     "output_type": "stream",
     "text": [
      "Starting\n"
     ]
    },
    {
     "name": "stderr",
     "output_type": "stream",
     "text": [
      "INFO:kafka.consumer.subscription_state:Updating subscribed topics to: ('accelerometer',)\n"
     ]
    },
    {
     "name": "stdout",
     "output_type": "stream",
     "text": [
      "consumer done\n"
     ]
    },
    {
     "name": "stderr",
     "output_type": "stream",
     "text": [
      "INFO:kafka.conn:<BrokerConnection node_id=bootstrap-0 host=broker1:9093 <connecting> [IPv4 ('172.19.0.7', 9093)]>: connecting to broker1:9093 [('172.19.0.7', 9093) IPv4]\n",
      "INFO:kafka.conn:<BrokerConnection node_id=bootstrap-0 host=broker1:9093 <connecting> [IPv4 ('172.19.0.7', 9093)]>: Connection complete.\n",
      "INFO:kafka.conn:<BrokerConnection node_id=bootstrap-0 host=broker1:9093 <connecting> [IPv4 ('172.19.0.7', 9093)]>: connecting to broker1:9093 [('172.19.0.7', 9093) IPv4]\n",
      "INFO:kafka.conn:<BrokerConnection node_id=bootstrap-0 host=broker1:9093 <connecting> [IPv4 ('172.19.0.7', 9093)]>: Connection complete.\n",
      "INFO:kafka.cluster:Group coordinator for accelerometer-group is BrokerMetadata(nodeId='coordinator-3', host='broker3', port=9097, rack=None)\n",
      "INFO:kafka.coordinator:Discovered coordinator coordinator-3 for group accelerometer-group\n",
      "INFO:kafka.coordinator:Starting new heartbeat thread\n",
      "INFO:kafka.coordinator.consumer:Revoking previously assigned partitions set() for group accelerometer-group\n",
      "INFO:kafka.conn:<BrokerConnection node_id=coordinator-3 host=broker3:9097 <connecting> [IPv4 ('172.19.0.5', 9097)]>: connecting to broker3:9097 [('172.19.0.5', 9097) IPv4]\n",
      "INFO:kafka.conn:<BrokerConnection node_id=coordinator-3 host=broker3:9097 <connecting> [IPv4 ('172.19.0.5', 9097)]>: Connection complete.\n",
      "INFO:kafka.conn:<BrokerConnection node_id=bootstrap-0 host=broker1:9093 <connected> [IPv4 ('172.19.0.7', 9093)]>: Closing connection. \n",
      "INFO:kafka.coordinator:(Re-)joining group accelerometer-group\n",
      "INFO:kafka.conn:<BrokerConnection node_id=bootstrap-0 host=broker1:9093 <connecting> [IPv4 ('172.19.0.7', 9093)]>: connecting to broker1:9093 [('172.19.0.7', 9093) IPv4]\n",
      "INFO:kafka.conn:<BrokerConnection node_id=bootstrap-0 host=broker1:9093 <connecting> [IPv4 ('172.19.0.7', 9093)]>: Connection complete.\n",
      "INFO:kafka.coordinator:Elected group leader -- performing partition assignments using range\n",
      "WARNING:kafka.coordinator.assignors.range:No partition metadata for topic accelerometer\n",
      "INFO:kafka.coordinator:Successfully joined group accelerometer-group with generation 1\n",
      "INFO:kafka.consumer.subscription_state:Updated partition assignment: []\n",
      "INFO:kafka.coordinator.consumer:Setting newly assigned partitions set() for group accelerometer-group\n",
      "INFO:kafka.coordinator.consumer:Revoking previously assigned partitions set() for group accelerometer-group\n",
      "INFO:kafka.coordinator:(Re-)joining group accelerometer-group\n",
      "INFO:kafka.coordinator:Elected group leader -- performing partition assignments using range\n",
      "INFO:kafka.coordinator:Successfully joined group accelerometer-group with generation 2\n",
      "INFO:kafka.consumer.subscription_state:Updated partition assignment: [TopicPartition(topic='accelerometer', partition=0)]\n",
      "INFO:kafka.coordinator.consumer:Setting newly assigned partitions {TopicPartition(topic='accelerometer', partition=0)} for group accelerometer-group\n",
      "INFO:kafka.conn:<BrokerConnection node_id=3 host=broker3:9097 <connecting> [IPv4 ('172.19.0.5', 9097)]>: connecting to broker3:9097 [('172.19.0.5', 9097) IPv4]\n",
      "INFO:kafka.conn:<BrokerConnection node_id=3 host=broker3:9097 <connecting> [IPv4 ('172.19.0.5', 9097)]>: Connection complete.\n",
      "INFO:kafka.conn:<BrokerConnection node_id=bootstrap-0 host=broker1:9093 <connected> [IPv4 ('172.19.0.7', 9093)]>: Closing connection. \n",
      "Process Process-1:\n",
      "Process Process-2:\n",
      "Traceback (most recent call last):\n",
      "Traceback (most recent call last):\n",
      "  File \"/opt/conda/lib/python3.10/multiprocessing/process.py\", line 314, in _bootstrap\n",
      "    self.run()\n",
      "  File \"/opt/conda/lib/python3.10/multiprocessing/process.py\", line 314, in _bootstrap\n",
      "    self.run()\n",
      "  File \"/opt/conda/lib/python3.10/multiprocessing/process.py\", line 108, in run\n",
      "    self._target(*self._args, **self._kwargs)\n",
      "  File \"/opt/conda/lib/python3.10/multiprocessing/process.py\", line 108, in run\n",
      "    self._target(*self._args, **self._kwargs)\n",
      "  File \"/tmp/ipykernel_209/3461031405.py\", line 10, in process_messages\n",
      "    message = pipe_connection.recv()\n",
      "  File \"/tmp/ipykernel_209/3381472535.py\", line 23, in consume_messages\n",
      "    for message in consumer:\n",
      "  File \"/opt/conda/lib/python3.10/multiprocessing/connection.py\", line 250, in recv\n",
      "    buf = self._recv_bytes()\n",
      "  File \"/opt/conda/lib/python3.10/site-packages/kafka/consumer/group.py\", line 1193, in __next__\n",
      "    return self.next_v2()\n",
      "  File \"/opt/conda/lib/python3.10/multiprocessing/connection.py\", line 414, in _recv_bytes\n",
      "    buf = self._recv(4)\n",
      "  File \"/opt/conda/lib/python3.10/site-packages/kafka/consumer/group.py\", line 1201, in next_v2\n",
      "    return next(self._iterator)\n",
      "  File \"/opt/conda/lib/python3.10/multiprocessing/connection.py\", line 379, in _recv\n",
      "    chunk = read(handle, remaining)\n",
      "  File \"/opt/conda/lib/python3.10/site-packages/kafka/consumer/group.py\", line 1116, in _message_generator_v2\n",
      "    record_map = self.poll(timeout_ms=timeout_ms, update_offsets=False)\n",
      "KeyboardInterrupt\n",
      "  File \"/opt/conda/lib/python3.10/site-packages/kafka/consumer/group.py\", line 655, in poll\n",
      "    records = self._poll_once(remaining, max_records, update_offsets=update_offsets)\n",
      "  File \"/opt/conda/lib/python3.10/site-packages/kafka/consumer/group.py\", line 702, in _poll_once\n",
      "    self._client.poll(timeout_ms=timeout_ms)\n",
      "  File \"/opt/conda/lib/python3.10/site-packages/kafka/client_async.py\", line 602, in poll\n",
      "    self._poll(timeout / 1000)\n",
      "INFO:kafka.conn:<BrokerConnection node_id=bootstrap-0 host=broker1:9093 <connected> [IPv4 ('172.19.0.7', 9093)]>: Closing connection. \n",
      "  File \"/opt/conda/lib/python3.10/site-packages/kafka/client_async.py\", line 634, in _poll\n",
      "    ready = self._selector.select(timeout)\n",
      "  File \"/opt/conda/lib/python3.10/selectors.py\", line 469, in select\n",
      "    fd_event_list = self._selector.poll(timeout, max_ev)\n",
      "KeyboardInterrupt\n",
      "INFO:kafka.coordinator:Stopping heartbeat thread\n"
     ]
    },
    {
     "ename": "KeyboardInterrupt",
     "evalue": "",
     "output_type": "error",
     "traceback": [
      "\u001b[0;31m---------------------------------------------------------------------------\u001b[0m",
      "\u001b[0;31mKeyboardInterrupt\u001b[0m                         Traceback (most recent call last)",
      "Cell \u001b[0;32mIn[11], line 1\u001b[0m\n\u001b[0;32m----> 1\u001b[0m \u001b[43mget_ipython\u001b[49m\u001b[43m(\u001b[49m\u001b[43m)\u001b[49m\u001b[38;5;241;43m.\u001b[39;49m\u001b[43mrun_cell_magic\u001b[49m\u001b[43m(\u001b[49m\u001b[38;5;124;43m'\u001b[39;49m\u001b[38;5;124;43mviztracer\u001b[39;49m\u001b[38;5;124;43m'\u001b[39;49m\u001b[43m,\u001b[49m\u001b[43m \u001b[49m\u001b[38;5;124;43m'\u001b[39;49m\u001b[38;5;124;43m'\u001b[39;49m\u001b[43m,\u001b[49m\u001b[43m \u001b[49m\u001b[38;5;124;43m'\u001b[39;49m\u001b[38;5;124;43m# start two processes, one for consuming messages and one for processing messages\u001b[39;49m\u001b[38;5;130;43;01m\\n\u001b[39;49;00m\u001b[38;5;130;43;01m\\n\u001b[39;49;00m\u001b[38;5;124;43m# create a pipe to communicate between the processes\u001b[39;49m\u001b[38;5;130;43;01m\\n\u001b[39;49;00m\u001b[38;5;124;43mpipe_end, pipe_start = multiprocessing.Pipe()\u001b[39;49m\u001b[38;5;130;43;01m\\n\u001b[39;49;00m\u001b[38;5;130;43;01m\\n\u001b[39;49;00m\u001b[38;5;124;43mp1 = multiprocessing.Process(target=consume_messages, args=(pipe_end,))\u001b[39;49m\u001b[38;5;130;43;01m\\n\u001b[39;49;00m\u001b[38;5;124;43mp2 = multiprocessing.Process(target=process_messages, args=(pipe_start,))\u001b[39;49m\u001b[38;5;130;43;01m\\n\u001b[39;49;00m\u001b[38;5;124;43mp1.start()\u001b[39;49m\u001b[38;5;130;43;01m\\n\u001b[39;49;00m\u001b[38;5;124;43mp2.start()\u001b[39;49m\u001b[38;5;130;43;01m\\n\u001b[39;49;00m\u001b[38;5;124;43mp1.join()\u001b[39;49m\u001b[38;5;130;43;01m\\n\u001b[39;49;00m\u001b[38;5;124;43mp2.join()\u001b[39;49m\u001b[38;5;130;43;01m\\n\u001b[39;49;00m\u001b[38;5;124;43m'\u001b[39;49m\u001b[43m)\u001b[49m\n",
      "File \u001b[0;32m/opt/conda/lib/python3.10/site-packages/IPython/core/interactiveshell.py:2430\u001b[0m, in \u001b[0;36mInteractiveShell.run_cell_magic\u001b[0;34m(self, magic_name, line, cell)\u001b[0m\n\u001b[1;32m   2428\u001b[0m \u001b[38;5;28;01mwith\u001b[39;00m \u001b[38;5;28mself\u001b[39m\u001b[38;5;241m.\u001b[39mbuiltin_trap:\n\u001b[1;32m   2429\u001b[0m     args \u001b[38;5;241m=\u001b[39m (magic_arg_s, cell)\n\u001b[0;32m-> 2430\u001b[0m     result \u001b[38;5;241m=\u001b[39m \u001b[43mfn\u001b[49m\u001b[43m(\u001b[49m\u001b[38;5;241;43m*\u001b[39;49m\u001b[43margs\u001b[49m\u001b[43m,\u001b[49m\u001b[43m \u001b[49m\u001b[38;5;241;43m*\u001b[39;49m\u001b[38;5;241;43m*\u001b[39;49m\u001b[43mkwargs\u001b[49m\u001b[43m)\u001b[49m\n\u001b[1;32m   2432\u001b[0m \u001b[38;5;66;03m# The code below prevents the output from being displayed\u001b[39;00m\n\u001b[1;32m   2433\u001b[0m \u001b[38;5;66;03m# when using magics with decodator @output_can_be_silenced\u001b[39;00m\n\u001b[1;32m   2434\u001b[0m \u001b[38;5;66;03m# when the last Python token in the expression is a ';'.\u001b[39;00m\n\u001b[1;32m   2435\u001b[0m \u001b[38;5;28;01mif\u001b[39;00m \u001b[38;5;28mgetattr\u001b[39m(fn, magic\u001b[38;5;241m.\u001b[39mMAGIC_OUTPUT_CAN_BE_SILENCED, \u001b[38;5;28;01mFalse\u001b[39;00m):\n",
      "File \u001b[0;32m/opt/conda/lib/python3.10/site-packages/viztracer/cellmagic.py:19\u001b[0m, in \u001b[0;36mVizTracerMagics.viztracer\u001b[0;34m(self, line, cell, local_ns)\u001b[0m\n\u001b[1;32m     17\u001b[0m file_path \u001b[38;5;241m=\u001b[39m \u001b[38;5;124m\"\u001b[39m\u001b[38;5;124m./viztracer_report.json\u001b[39m\u001b[38;5;124m\"\u001b[39m\n\u001b[1;32m     18\u001b[0m \u001b[38;5;28;01mwith\u001b[39;00m VizTracer(verbose\u001b[38;5;241m=\u001b[39m\u001b[38;5;241m0\u001b[39m, output_file\u001b[38;5;241m=\u001b[39mfile_path):\n\u001b[0;32m---> 19\u001b[0m     \u001b[43mexec\u001b[49m\u001b[43m(\u001b[49m\u001b[43mcode\u001b[49m\u001b[43m,\u001b[49m\u001b[43m \u001b[49m\u001b[43mlocal_ns\u001b[49m\u001b[43m,\u001b[49m\u001b[43m \u001b[49m\u001b[43mlocal_ns\u001b[49m\u001b[43m)\u001b[49m\n\u001b[1;32m     21\u001b[0m \u001b[38;5;28;01mdef\u001b[39;00m \u001b[38;5;21mview\u001b[39m():  \u001b[38;5;66;03m# pragma: no cover\u001b[39;00m\n\u001b[1;32m     22\u001b[0m     server \u001b[38;5;241m=\u001b[39m ServerThread(file_path, once\u001b[38;5;241m=\u001b[39m\u001b[38;5;28;01mTrue\u001b[39;00m)\n",
      "File \u001b[0;32m<string>:10\u001b[0m\n",
      "File \u001b[0;32m/opt/conda/lib/python3.10/multiprocessing/process.py:149\u001b[0m, in \u001b[0;36mBaseProcess.join\u001b[0;34m(self, timeout)\u001b[0m\n\u001b[1;32m    147\u001b[0m \u001b[38;5;28;01massert\u001b[39;00m \u001b[38;5;28mself\u001b[39m\u001b[38;5;241m.\u001b[39m_parent_pid \u001b[38;5;241m==\u001b[39m os\u001b[38;5;241m.\u001b[39mgetpid(), \u001b[38;5;124m'\u001b[39m\u001b[38;5;124mcan only join a child process\u001b[39m\u001b[38;5;124m'\u001b[39m\n\u001b[1;32m    148\u001b[0m \u001b[38;5;28;01massert\u001b[39;00m \u001b[38;5;28mself\u001b[39m\u001b[38;5;241m.\u001b[39m_popen \u001b[38;5;129;01mis\u001b[39;00m \u001b[38;5;129;01mnot\u001b[39;00m \u001b[38;5;28;01mNone\u001b[39;00m, \u001b[38;5;124m'\u001b[39m\u001b[38;5;124mcan only join a started process\u001b[39m\u001b[38;5;124m'\u001b[39m\n\u001b[0;32m--> 149\u001b[0m res \u001b[38;5;241m=\u001b[39m \u001b[38;5;28;43mself\u001b[39;49m\u001b[38;5;241;43m.\u001b[39;49m\u001b[43m_popen\u001b[49m\u001b[38;5;241;43m.\u001b[39;49m\u001b[43mwait\u001b[49m\u001b[43m(\u001b[49m\u001b[43mtimeout\u001b[49m\u001b[43m)\u001b[49m\n\u001b[1;32m    150\u001b[0m \u001b[38;5;28;01mif\u001b[39;00m res \u001b[38;5;129;01mis\u001b[39;00m \u001b[38;5;129;01mnot\u001b[39;00m \u001b[38;5;28;01mNone\u001b[39;00m:\n\u001b[1;32m    151\u001b[0m     _children\u001b[38;5;241m.\u001b[39mdiscard(\u001b[38;5;28mself\u001b[39m)\n",
      "File \u001b[0;32m/opt/conda/lib/python3.10/multiprocessing/popen_fork.py:43\u001b[0m, in \u001b[0;36mPopen.wait\u001b[0;34m(self, timeout)\u001b[0m\n\u001b[1;32m     41\u001b[0m             \u001b[38;5;28;01mreturn\u001b[39;00m \u001b[38;5;28;01mNone\u001b[39;00m\n\u001b[1;32m     42\u001b[0m     \u001b[38;5;66;03m# This shouldn't block if wait() returned successfully.\u001b[39;00m\n\u001b[0;32m---> 43\u001b[0m     \u001b[38;5;28;01mreturn\u001b[39;00m \u001b[38;5;28;43mself\u001b[39;49m\u001b[38;5;241;43m.\u001b[39;49m\u001b[43mpoll\u001b[49m\u001b[43m(\u001b[49m\u001b[43mos\u001b[49m\u001b[38;5;241;43m.\u001b[39;49m\u001b[43mWNOHANG\u001b[49m\u001b[43m \u001b[49m\u001b[38;5;28;43;01mif\u001b[39;49;00m\u001b[43m \u001b[49m\u001b[43mtimeout\u001b[49m\u001b[43m \u001b[49m\u001b[38;5;241;43m==\u001b[39;49m\u001b[43m \u001b[49m\u001b[38;5;241;43m0.0\u001b[39;49m\u001b[43m \u001b[49m\u001b[38;5;28;43;01melse\u001b[39;49;00m\u001b[43m \u001b[49m\u001b[38;5;241;43m0\u001b[39;49m\u001b[43m)\u001b[49m\n\u001b[1;32m     44\u001b[0m \u001b[38;5;28;01mreturn\u001b[39;00m \u001b[38;5;28mself\u001b[39m\u001b[38;5;241m.\u001b[39mreturncode\n",
      "File \u001b[0;32m/opt/conda/lib/python3.10/multiprocessing/popen_fork.py:27\u001b[0m, in \u001b[0;36mPopen.poll\u001b[0;34m(self, flag)\u001b[0m\n\u001b[1;32m     25\u001b[0m \u001b[38;5;28;01mif\u001b[39;00m \u001b[38;5;28mself\u001b[39m\u001b[38;5;241m.\u001b[39mreturncode \u001b[38;5;129;01mis\u001b[39;00m \u001b[38;5;28;01mNone\u001b[39;00m:\n\u001b[1;32m     26\u001b[0m     \u001b[38;5;28;01mtry\u001b[39;00m:\n\u001b[0;32m---> 27\u001b[0m         pid, sts \u001b[38;5;241m=\u001b[39m \u001b[43mos\u001b[49m\u001b[38;5;241;43m.\u001b[39;49m\u001b[43mwaitpid\u001b[49m\u001b[43m(\u001b[49m\u001b[38;5;28;43mself\u001b[39;49m\u001b[38;5;241;43m.\u001b[39;49m\u001b[43mpid\u001b[49m\u001b[43m,\u001b[49m\u001b[43m \u001b[49m\u001b[43mflag\u001b[49m\u001b[43m)\u001b[49m\n\u001b[1;32m     28\u001b[0m     \u001b[38;5;28;01mexcept\u001b[39;00m \u001b[38;5;167;01mOSError\u001b[39;00m:\n\u001b[1;32m     29\u001b[0m         \u001b[38;5;66;03m# Child process not yet created. See #1731717\u001b[39;00m\n\u001b[1;32m     30\u001b[0m         \u001b[38;5;66;03m# e.errno == errno.ECHILD == 10\u001b[39;00m\n\u001b[1;32m     31\u001b[0m         \u001b[38;5;28;01mreturn\u001b[39;00m \u001b[38;5;28;01mNone\u001b[39;00m\n",
      "\u001b[0;31mKeyboardInterrupt\u001b[0m: "
     ]
    }
   ],
   "source": [
    "# start two processes, one for consuming messages and one for processing messages\n",
    "\n",
    "# create a pipe to communicate between the processes\n",
    "pipe_end, pipe_start = multiprocessing.Pipe()\n",
    "\n",
    "p1 = multiprocessing.Process(target=consume_messages, args=(pipe_end,))\n",
    "p2 = multiprocessing.Process(target=process_messages, args=(pipe_start,))\n",
    "p1.start()\n",
    "p2.start()\n",
    "p1.join()\n",
    "p2.join()"
   ]
  },
  {
   "cell_type": "code",
   "execution_count": null,
   "id": "e818e9ff-0967-4735-8256-8177349cec28",
   "metadata": {},
   "outputs": [],
   "source": []
  }
 ],
 "metadata": {
  "kernelspec": {
   "display_name": "Python 3 (ipykernel)",
   "language": "python",
   "name": "python3"
  },
  "language_info": {
   "codemirror_mode": {
    "name": "ipython",
    "version": 3
   },
   "file_extension": ".py",
   "mimetype": "text/x-python",
   "name": "python",
   "nbconvert_exporter": "python",
   "pygments_lexer": "ipython3",
   "version": "3.10.9"
  }
 },
 "nbformat": 4,
 "nbformat_minor": 5
}

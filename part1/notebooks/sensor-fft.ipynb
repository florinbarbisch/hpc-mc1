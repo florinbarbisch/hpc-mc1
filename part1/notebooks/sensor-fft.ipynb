{
 "cells": [
  {
   "cell_type": "code",
   "execution_count": 1,
   "id": "d06de378-0fe5-4d0f-83ac-f0bdac7b8691",
   "metadata": {
    "tags": []
   },
   "outputs": [
    {
     "name": "stdout",
     "output_type": "stream",
     "text": [
      "Requirement already satisfied: kafka-python in /opt/conda/lib/python3.10/site-packages (2.0.2)\n",
      "Requirement already satisfied: viztracer in /opt/conda/lib/python3.10/site-packages (0.15.6)\n",
      "Requirement already satisfied: objprint>=0.1.3 in /opt/conda/lib/python3.10/site-packages (from viztracer) (0.2.2)\n"
     ]
    }
   ],
   "source": [
    "!pip install kafka-python viztracer"
   ]
  },
  {
   "cell_type": "code",
   "execution_count": 2,
   "id": "5544efb2-c094-4649-9772-be92e60bd132",
   "metadata": {
    "tags": []
   },
   "outputs": [],
   "source": [
    "from kafka import KafkaConsumer, KafkaProducer\n",
    "import json\n",
    "import uuid\n",
    "import os\n",
    "import logging\n",
    "import sys\n",
    "import time\n",
    "import multiprocessing\n",
    "from scipy.fft import fft\n",
    "import numpy as np\n",
    "import cProfile\n",
    "\n",
    "\n",
    "multiprocessing.set_start_method('fork')"
   ]
  },
  {
   "cell_type": "code",
   "execution_count": 3,
   "id": "a6a27f52-bd9e-4862-8f3d-9a5995a70fe5",
   "metadata": {
    "tags": []
   },
   "outputs": [],
   "source": [
    "def consume_messages(pipe_connection):\n",
    "    sys.stdout.write(\"Starting\\n\")\n",
    "    sys.stdout.flush()\n",
    "    \n",
    "\n",
    "    consumer = KafkaConsumer(os.environ.get('KAFKA_TOPIC', \"accelerometer\"), \n",
    "                             auto_offset_reset = 'earliest',\n",
    "                             bootstrap_servers = os.environ.get('KAFKA_BROKER', 'broker1:9093').split(\",\"), \n",
    "                             group_id = os.environ.get('KAFKA_GROUP_ID', \"accelerometer-group\"),\n",
    "                             api_version = (0, 10), \n",
    "                             value_deserializer = json.loads,\n",
    "                             consumer_timeout_ms = 1000)\n",
    "    sys.stdout.write(\"consumer done\\n\")\n",
    "    sys.stdout.flush()\n",
    "\n",
    "    messages_by_key = {}\n",
    "    \n",
    "    count = 0\n",
    "    last_ordering = 0\n",
    "    while True:\n",
    "        # Step 1: Consume messages\n",
    "        try:\n",
    "            for message in consumer:\n",
    "                if count == 0:\n",
    "                    sys.stdout.write(str(message))\n",
    "                    sys.stdout.write(\"\\n\")\n",
    "                    sys.stdout.flush()\n",
    "                # convert bytes to string\n",
    "                key = message.key.decode('utf-8')\n",
    "                if key not in messages_by_key:\n",
    "                    # add a mulltiprocessing.Dictionary to the dictionary\n",
    "                    messages_by_key[key] = {}\n",
    "                    \n",
    "                messages_current_key = messages_by_key[key]\n",
    "\n",
    "                seconds = int(message.timestamp / 1000)\n",
    "                if seconds not in messages_current_key:\n",
    "                    # add a mulltiprocessing.Queue for each second\n",
    "                    messages_current_key[seconds] = []\n",
    "\n",
    "                messages_current_key_seconds = messages_current_key[seconds]\n",
    "\n",
    "                messages_current_key_seconds.append([\n",
    "                    message.timestamp, \n",
    "                    message.value.get('x'),\n",
    "                    message.value.get('y'), \n",
    "                    message.value.get('z')\n",
    "                    ])\n",
    "\n",
    "                sys.stdout.write(f\"\\rRead Message {count}\")\n",
    "                count += 1\n",
    "                \n",
    "                if count-100 >= last_ordering:\n",
    "                    # Step 2: Order messages and send to pipe\n",
    "                    for key in messages_by_key:\n",
    "                        messages_current_key = messages_by_key[key]\n",
    "                        seconds = list(messages_current_key.keys())\n",
    "                        # only process the first n-1 seconds\n",
    "                        for second in seconds[:-1]:\n",
    "                            messages_current_key_seconds = messages_current_key[second]\n",
    "                            messages_current_key_seconds.sort(key=lambda x: x[0])\n",
    "                            # send the messages to the pipe\n",
    "                            pipe_connection.send({\n",
    "                                'key': key,\n",
    "                                'second': second,\n",
    "                                'x': [x[1] for x in messages_current_key_seconds],\n",
    "                                'y': [x[2] for x in messages_current_key_seconds],\n",
    "                                'z': [x[3] for x in messages_current_key_seconds]\n",
    "                            })\n",
    "                            # remove the messages from the dictionary\n",
    "                            del messages_current_key[second]\n",
    "                    last_ordering = count\n",
    "                    # commit offsets so we won't get the same messages again\n",
    "                    consumer.commit()\n",
    "        except Exception as ex:\n",
    "            logger.error('Exception in consuming message', exc_info=True)\n",
    "\n",
    "        time.sleep(0.05)"
   ]
  },
  {
   "cell_type": "code",
   "execution_count": 4,
   "id": "e7ed3566-677b-4f6e-be88-ca08776e021b",
   "metadata": {
    "tags": []
   },
   "outputs": [],
   "source": [
    "def complex_ndarray_to_list(complex_ndarray):\n",
    "    return [complex_ndarray.real.tolist(), complex_ndarray.imag.tolist()]\n",
    "\n",
    "def process_messages(pipe_connection):\n",
    "    producer = KafkaProducer(bootstrap_servers=os.environ.get('KAFKA_BROKER', 'broker1:9093').split(\",\"), \n",
    "                              api_version=(0, 10),\n",
    "                              max_block_ms=10000)\n",
    "    # poll the pipe for messages and compute the fft\n",
    "    while True:\n",
    "        message = pipe_connection.recv()\n",
    "        key = message['key']\n",
    "        second = message['second']\n",
    "        \n",
    "        # compute the fft\n",
    "        x_fft = fft(message['x'])\n",
    "        y_fft = fft(message['y'])\n",
    "        z_fft = fft(message['z'])\n",
    "        \n",
    "        count = 0\n",
    "        for i in range(100_000):\n",
    "            count += i\n",
    "        \n",
    "        # send the fft to the producer\n",
    "        message = {\n",
    "                    'second': second,\n",
    "                    'x': complex_ndarray_to_list(x_fft),\n",
    "                    'y': complex_ndarray_to_list(y_fft),\n",
    "                    'z': complex_ndarray_to_list(z_fft)\n",
    "            }\n",
    "        producer.send('accelerometer-fft',\n",
    "                        key=key.encode('utf-8'),\n",
    "                        value=bytes(json.dumps(message), encoding='utf-8'))\n",
    "        producer.flush()"
   ]
  },
  {
   "cell_type": "code",
   "execution_count": null,
   "id": "5fae3203",
   "metadata": {
    "tags": []
   },
   "outputs": [
    {
     "name": "stdout",
     "output_type": "stream",
     "text": [
      "Starting\n",
      "consumer done\n",
      "ConsumerRecord(topic='accelerometer', partition=0, offset=0, timestamp=1680096899484, timestamp_type=0, key=b':Pixel6:running', value={'z': 0.21992111206054688, 'y': -0.09512567520141602, 'x': 0.024485111236572266}, headers=[], checksum=2049535348, serialized_key_size=15, serialized_value_size=80, serialized_header_size=-1)\n",
      "Read Message 46145"
     ]
    }
   ],
   "source": [
    "# start two processes, one for consuming messages and one for processing messages\n",
    "\n",
    "# create a pipe to communicate between the processes\n",
    "pipe_end, pipe_start = multiprocessing.Pipe()\n",
    "\n",
    "p1 = multiprocessing.Process(target=consume_messages, args=(pipe_end,))\n",
    "p2 = multiprocessing.Process(target=process_messages, args=(pipe_start,))\n",
    "p1.start()\n",
    "p2.start()\n",
    "p1.join()\n",
    "p2.join()"
   ]
  },
  {
   "cell_type": "code",
   "execution_count": null,
   "id": "e818e9ff-0967-4735-8256-8177349cec28",
   "metadata": {},
   "outputs": [],
   "source": []
  }
 ],
 "metadata": {
  "kernelspec": {
   "display_name": "Python 3 (ipykernel)",
   "language": "python",
   "name": "python3"
  },
  "language_info": {
   "codemirror_mode": {
    "name": "ipython",
    "version": 3
   },
   "file_extension": ".py",
   "mimetype": "text/x-python",
   "name": "python",
   "nbconvert_exporter": "python",
   "pygments_lexer": "ipython3",
   "version": "3.10.9"
  }
 },
 "nbformat": 4,
 "nbformat_minor": 5
}

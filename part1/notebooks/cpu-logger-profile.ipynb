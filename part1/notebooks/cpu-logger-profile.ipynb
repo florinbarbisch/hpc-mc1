{
 "cells": [
  {
   "cell_type": "code",
   "execution_count": 1,
   "id": "79606802-003f-4763-b45b-35b9f25135f4",
   "metadata": {
    "tags": []
   },
   "outputs": [
    {
     "name": "stdout",
     "output_type": "stream",
     "text": [
      "Requirement already satisfied: snakeviz in /opt/conda/lib/python3.10/site-packages (2.1.1)\n",
      "Requirement already satisfied: tornado>=2.0 in /opt/conda/lib/python3.10/site-packages (from snakeviz) (6.2)\n"
     ]
    }
   ],
   "source": [
    "!pip install snakeviz"
   ]
  },
  {
   "cell_type": "code",
   "execution_count": 2,
   "id": "3aebc07f-aba4-4ec8-8c98-a83bfa119801",
   "metadata": {
    "tags": []
   },
   "outputs": [
    {
     "name": "stderr",
     "output_type": "stream",
     "text": [
      "INFO:__main__:Kafka topic: cpu-logger\n",
      "INFO:kafka.conn:<BrokerConnection node_id=bootstrap-0 host=broker1:9093 <connecting> [IPv4 ('172.18.0.6', 9093)]>: connecting to broker1:9093 [('172.18.0.6', 9093) IPv4]\n",
      "INFO:kafka.conn:<BrokerConnection node_id=bootstrap-0 host=broker1:9093 <connecting> [IPv4 ('172.18.0.6', 9093)]>: Connection complete.\n",
      "INFO:kafka.conn:<BrokerConnection node_id=1 host=broker1:9093 <connecting> [IPv4 ('172.18.0.6', 9093)]>: connecting to broker1:9093 [('172.18.0.6', 9093) IPv4]\n",
      "INFO:kafka.conn:<BrokerConnection node_id=1 host=broker1:9093 <connecting> [IPv4 ('172.18.0.6', 9093)]>: Connection complete.\n",
      "INFO:kafka.conn:<BrokerConnection node_id=bootstrap-0 host=broker1:9093 <connected> [IPv4 ('172.18.0.6', 9093)]>: Closing connection. \n"
     ]
    },
    {
     "name": "stdout",
     "output_type": "stream",
     "text": [
      "Run 0 done!\n",
      "Done with logging\n"
     ]
    }
   ],
   "source": [
    "from kafka import KafkaProducer\n",
    "import os\n",
    "import io\n",
    "import logging\n",
    "import psutil\n",
    "import time\n",
    "import cProfile\n",
    "import pstats\n",
    "\n",
    "\n",
    "logging.basicConfig(level=logging.INFO)\n",
    "logger = logging.getLogger(__name__)\n",
    "\n",
    "\n",
    "topic = os.environ.get('KAFKA_TOPIC', \"cpu-logger\")\n",
    "logger.info(f\"Kafka topic: {topic}\")\n",
    "\n",
    "_producer = None\n",
    "try:\n",
    "    _producer = KafkaProducer(bootstrap_servers=os.environ.get('KAFKA_BROKER', 'broker1:9093').split(\",\"), \n",
    "                              api_version=(0, 10),\n",
    "                              max_block_ms=10000)\n",
    "except Exception as ex:\n",
    "    logger.error('Exception while connecting Kafka', exc_info=True)\n",
    "\n",
    "\n",
    "num_runs = 1\n",
    "run = 0\n",
    "loops = 100\n",
    "\n",
    "while run < num_runs:\n",
    "    profiler = cProfile.Profile()\n",
    "    profiler.enable()\n",
    "\n",
    "    for i in range(loops):\n",
    "        try:\n",
    "            message = ','.join([str(p) for p in psutil.cpu_percent(interval=0, percpu=True)])\n",
    "            value_bytes = bytes(message, encoding='utf-8')\n",
    "            _producer.send(topic=topic, \n",
    "                           value=value_bytes)\n",
    "        \n",
    "        except Exception as ex:\n",
    "            logger.error('Exception in publishing message', exc_info=True)\n",
    "    _producer.flush()\n",
    "    profiler.disable()\n",
    "\n",
    "    if run % 10 == 0:\n",
    "        print(f\"Run {run} done!\")\n",
    "    run += 1\n",
    "\n",
    "    time.sleep(0.5)\n",
    "\n",
    "print(\"Done with logging\")"
   ]
  },
  {
   "cell_type": "code",
   "execution_count": 3,
   "id": "1c57ce92-58dc-4961-8920-02a7d3474ee3",
   "metadata": {
    "tags": []
   },
   "outputs": [],
   "source": [
    "profiler.dump_stats(\"cpu-logger.prof\")"
   ]
  },
  {
   "cell_type": "code",
   "execution_count": null,
   "id": "abc7efb0-26b6-4c02-a9ae-4d6386e90509",
   "metadata": {
    "tags": []
   },
   "outputs": [
    {
     "name": "stdout",
     "output_type": "stream",
     "text": [
      "Open the URL: http://127.0.0.1:9001/snakeviz/%2Fhome%2Fjovyan%2Fcpu-logger.prof in your local browser. Interrupt the cell to stop the server.\n"
     ]
    },
    {
     "name": "stderr",
     "output_type": "stream",
     "text": [
      "404 GET /static/vendor/lodash.min.js.map (172.18.0.1) 2.41ms\n"
     ]
    }
   ],
   "source": [
    "# the cell magic does not work, no clue why\n",
    "# %load_ext snakeviz\n",
    "# %snakeviz \"test.prof\"\n",
    "# so use the command line and the local browser to view the results\n",
    "import os\n",
    "print(\"Open the URL: http://127.0.0.1:9001/snakeviz/%2Fhome%2Fjovyan%2Fcpu-logger.prof in your local browser. Interrupt the cell to stop the server.\")\n",
    "os.system('snakeviz \"cpu-logger.prof\" -s -p 9001 -H 0.0.0.0')"
   ]
  },
  {
   "cell_type": "code",
   "execution_count": null,
   "id": "fd12015e-782f-4265-b446-82845a704c34",
   "metadata": {},
   "outputs": [],
   "source": []
  }
 ],
 "metadata": {
  "kernelspec": {
   "display_name": "Python 3 (ipykernel)",
   "language": "python",
   "name": "python3"
  },
  "language_info": {
   "codemirror_mode": {
    "name": "ipython",
    "version": 3
   },
   "file_extension": ".py",
   "mimetype": "text/x-python",
   "name": "python",
   "nbconvert_exporter": "python",
   "pygments_lexer": "ipython3",
   "version": "3.10.9"
  }
 },
 "nbformat": 4,
 "nbformat_minor": 5
}

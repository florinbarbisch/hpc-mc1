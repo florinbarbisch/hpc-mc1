{
 "cells": [
  {
   "cell_type": "code",
   "execution_count": 1,
   "id": "652fcc52-114f-41ec-a16f-9162322e2b6f",
   "metadata": {
    "tags": []
   },
   "outputs": [
    {
     "name": "stdout",
     "output_type": "stream",
     "text": [
      "Collecting paho-mqtt\n",
      "  Downloading paho-mqtt-1.6.1.tar.gz (99 kB)\n",
      "\u001b[2K     \u001b[90m━━━━━━━━━━━━━━━━━━━━━━━━━━━━━━━━━━━━━━━━\u001b[0m \u001b[32m99.4/99.4 kB\u001b[0m \u001b[31m1.5 MB/s\u001b[0m eta \u001b[36m0:00:00\u001b[0ma \u001b[36m0:00:01\u001b[0m\n",
      "\u001b[?25h  Preparing metadata (setup.py) ... \u001b[?25ldone\n",
      "\u001b[?25hBuilding wheels for collected packages: paho-mqtt\n",
      "  Building wheel for paho-mqtt (setup.py) ... \u001b[?25ldone\n",
      "\u001b[?25h  Created wheel for paho-mqtt: filename=paho_mqtt-1.6.1-py3-none-any.whl size=62118 sha256=c5fdaf59649038bc9827a179fb16ff7c0b222cc0d20344b655db8f277b2e8184\n",
      "  Stored in directory: /home/jovyan/.cache/pip/wheels/8b/bb/0c/79444d1dee20324d442856979b5b519b48828b0bd3d05df84a\n",
      "Successfully built paho-mqtt\n",
      "Installing collected packages: paho-mqtt\n",
      "Successfully installed paho-mqtt-1.6.1\n"
     ]
    }
   ],
   "source": [
    "!pip install paho-mqtt"
   ]
  },
  {
   "cell_type": "code",
   "execution_count": null,
   "id": "2b2c8fb0-44f6-4a4f-854e-ea3382c5d6dc",
   "metadata": {
    "tags": []
   },
   "outputs": [
    {
     "name": "stdout",
     "output_type": "stream",
     "text": [
      "Received message 'b'Hello from Jupyter'' on topic 'test' with QoS 0\n",
      "Received message 'b'Hello from Jupyter'' on topic 'test' with QoS 0\n",
      "Received message 'b'Hello from Jupyter'' on topic 'test' with QoS 0\n"
     ]
    }
   ],
   "source": [
    "import paho.mqtt.subscribe as subscribe\n",
    "import uuid\n",
    "\n",
    "client_id = \"jupyter1-\" + str(uuid.uuid4())\n",
    "\n",
    "def on_message(client, userdata, message):\n",
    "    print(\"Received message '\" + str(message.payload) + \"' on topic '\" + message.topic + \"' with QoS \" + str(message.qos))\n",
    "\n",
    "# listen on the topic \"test\"\n",
    "subscribe.callback(on_message, \"test\", hostname=\"mosquitto1\", port=1883, client_id=client_id)"
   ]
  }
 ],
 "metadata": {
  "kernelspec": {
   "display_name": "Python 3 (ipykernel)",
   "language": "python",
   "name": "python3"
  },
  "language_info": {
   "codemirror_mode": {
    "name": "ipython",
    "version": 3
   },
   "file_extension": ".py",
   "mimetype": "text/x-python",
   "name": "python",
   "nbconvert_exporter": "python",
   "pygments_lexer": "ipython3",
   "version": "3.10.9"
  }
 },
 "nbformat": 4,
 "nbformat_minor": 5
}
